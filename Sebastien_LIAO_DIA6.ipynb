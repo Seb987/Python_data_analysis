{
 "cells": [
  {
   "cell_type": "markdown",
   "metadata": {},
   "source": [
    "# Python for Data Analysis"
   ]
  },
  {
   "cell_type": "code",
   "execution_count": 295,
   "metadata": {},
   "outputs": [],
   "source": [
    "import pandas as pd\n",
    "import numpy as np\n",
    "import math\n",
    "import matplotlib.pyplot as plt\n",
    "import seaborn as sns"
   ]
  },
  {
   "cell_type": "code",
   "execution_count": 296,
   "metadata": {},
   "outputs": [],
   "source": [
    "from sklearn import datasets\n",
    "from sklearn.model_selection import train_test_split\n",
    "from sklearn.preprocessing import OneHotEncoder, OrdinalEncoder\n",
    "from sklearn.compose import make_column_transformer\n",
    "from sklearn.linear_model import LinearRegression\n",
    "from sklearn.pipeline import make_pipeline\n",
    "from sklearn.ensemble import GradientBoostingRegressor\n",
    "from sklearn.metrics import mean_absolute_error, mean_squared_error\n",
    "from sklearn.linear_model import LogisticRegression\n",
    "from sklearn.model_selection import cross_val_score"
   ]
  },
  {
   "cell_type": "markdown",
   "metadata": {},
   "source": [
    "In this project we'll try to see how we can determine the class of a solar flare.  <br>\n",
    "We're given a set of data representing the solar flare happening. <br>\n",
    "Each row of the database represents differents feature of 1 active region of the sun"
   ]
  },
  {
   "cell_type": "markdown",
   "metadata": {},
   "source": [
    "## Import dataset"
   ]
  },
  {
   "cell_type": "markdown",
   "metadata": {},
   "source": [
    "We have 2 datasets, but the \"flare.data2 \" file contains less errors and is therefore considered more reliable.\n",
    "That's why for most of our analysis we will use data2 instead of data1"
   ]
  },
  {
   "cell_type": "markdown",
   "metadata": {},
   "source": [
    "Here we're importing the .data files into a panda dataframe and separating the data into multiple columns since all of them are stored in a single column. We're also naming all the column names at the same time"
   ]
  },
  {
   "cell_type": "code",
   "execution_count": 297,
   "metadata": {},
   "outputs": [
    {
     "data": {
      "text/html": [
       "<div>\n",
       "<style scoped>\n",
       "    .dataframe tbody tr th:only-of-type {\n",
       "        vertical-align: middle;\n",
       "    }\n",
       "\n",
       "    .dataframe tbody tr th {\n",
       "        vertical-align: top;\n",
       "    }\n",
       "\n",
       "    .dataframe thead th {\n",
       "        text-align: right;\n",
       "    }\n",
       "</style>\n",
       "<table border=\"1\" class=\"dataframe\">\n",
       "  <thead>\n",
       "    <tr style=\"text-align: right;\">\n",
       "      <th></th>\n",
       "      <th>Code_class</th>\n",
       "      <th>Code_largest_spot_size</th>\n",
       "      <th>Code_spot_distribution</th>\n",
       "      <th>Activity</th>\n",
       "      <th>Evolution</th>\n",
       "      <th>Previous_flare_activity</th>\n",
       "      <th>Historically_complex</th>\n",
       "      <th>Region_historically_complex</th>\n",
       "      <th>Area</th>\n",
       "      <th>Area_largest_spot</th>\n",
       "      <th>C-class</th>\n",
       "      <th>M-class</th>\n",
       "      <th>X-class</th>\n",
       "    </tr>\n",
       "  </thead>\n",
       "  <tbody>\n",
       "    <tr>\n",
       "      <td>0</td>\n",
       "      <td>C</td>\n",
       "      <td>S</td>\n",
       "      <td>O</td>\n",
       "      <td>1</td>\n",
       "      <td>2</td>\n",
       "      <td>1</td>\n",
       "      <td>1</td>\n",
       "      <td>2</td>\n",
       "      <td>1</td>\n",
       "      <td>2</td>\n",
       "      <td>0</td>\n",
       "      <td>0</td>\n",
       "      <td>0</td>\n",
       "    </tr>\n",
       "    <tr>\n",
       "      <td>1</td>\n",
       "      <td>D</td>\n",
       "      <td>S</td>\n",
       "      <td>O</td>\n",
       "      <td>1</td>\n",
       "      <td>3</td>\n",
       "      <td>1</td>\n",
       "      <td>1</td>\n",
       "      <td>2</td>\n",
       "      <td>1</td>\n",
       "      <td>2</td>\n",
       "      <td>0</td>\n",
       "      <td>0</td>\n",
       "      <td>0</td>\n",
       "    </tr>\n",
       "    <tr>\n",
       "      <td>2</td>\n",
       "      <td>C</td>\n",
       "      <td>S</td>\n",
       "      <td>O</td>\n",
       "      <td>1</td>\n",
       "      <td>3</td>\n",
       "      <td>1</td>\n",
       "      <td>1</td>\n",
       "      <td>2</td>\n",
       "      <td>1</td>\n",
       "      <td>1</td>\n",
       "      <td>0</td>\n",
       "      <td>0</td>\n",
       "      <td>0</td>\n",
       "    </tr>\n",
       "    <tr>\n",
       "      <td>3</td>\n",
       "      <td>D</td>\n",
       "      <td>S</td>\n",
       "      <td>O</td>\n",
       "      <td>1</td>\n",
       "      <td>3</td>\n",
       "      <td>1</td>\n",
       "      <td>1</td>\n",
       "      <td>2</td>\n",
       "      <td>1</td>\n",
       "      <td>2</td>\n",
       "      <td>0</td>\n",
       "      <td>0</td>\n",
       "      <td>0</td>\n",
       "    </tr>\n",
       "    <tr>\n",
       "      <td>4</td>\n",
       "      <td>D</td>\n",
       "      <td>A</td>\n",
       "      <td>O</td>\n",
       "      <td>1</td>\n",
       "      <td>3</td>\n",
       "      <td>1</td>\n",
       "      <td>1</td>\n",
       "      <td>2</td>\n",
       "      <td>1</td>\n",
       "      <td>2</td>\n",
       "      <td>0</td>\n",
       "      <td>0</td>\n",
       "      <td>0</td>\n",
       "    </tr>\n",
       "  </tbody>\n",
       "</table>\n",
       "</div>"
      ],
      "text/plain": [
       "  Code_class Code_largest_spot_size Code_spot_distribution Activity Evolution  \\\n",
       "0          C                      S                      O        1         2   \n",
       "1          D                      S                      O        1         3   \n",
       "2          C                      S                      O        1         3   \n",
       "3          D                      S                      O        1         3   \n",
       "4          D                      A                      O        1         3   \n",
       "\n",
       "  Previous_flare_activity Historically_complex Region_historically_complex  \\\n",
       "0                       1                    1                           2   \n",
       "1                       1                    1                           2   \n",
       "2                       1                    1                           2   \n",
       "3                       1                    1                           2   \n",
       "4                       1                    1                           2   \n",
       "\n",
       "  Area Area_largest_spot C-class M-class X-class  \n",
       "0    1                 2       0       0       0  \n",
       "1    1                 2       0       0       0  \n",
       "2    1                 1       0       0       0  \n",
       "3    1                 2       0       0       0  \n",
       "4    1                 2       0       0       0  "
      ]
     },
     "execution_count": 297,
     "metadata": {},
     "output_type": "execute_result"
    }
   ],
   "source": [
    "data1 =  pd.read_csv('flare.data1', sep=\",\")\n",
    "data1 =data1[\"*******DATA1; 1969 FLARE DATA  (02/13/69 to 03/27/69) *******\"].str.split(\" \", expand = True)\n",
    "cmap = {0:'Code_class',1:'Code_largest_spot_size',2:'Code_spot_distribution',3:'Activity',4:'Evolution',5:'Previous_flare_activity',6:\"Historically_complex\",7:'Region_historically_complex',8:'Area',9:'Area_largest_spot',10:'C-class',11:'M-class',12:'X-class'}\n",
    "data1=data1.rename(columns =cmap)\n",
    "data1.head()"
   ]
  },
  {
   "cell_type": "code",
   "execution_count": 298,
   "metadata": {},
   "outputs": [
    {
     "data": {
      "text/html": [
       "<div>\n",
       "<style scoped>\n",
       "    .dataframe tbody tr th:only-of-type {\n",
       "        vertical-align: middle;\n",
       "    }\n",
       "\n",
       "    .dataframe tbody tr th {\n",
       "        vertical-align: top;\n",
       "    }\n",
       "\n",
       "    .dataframe thead th {\n",
       "        text-align: right;\n",
       "    }\n",
       "</style>\n",
       "<table border=\"1\" class=\"dataframe\">\n",
       "  <thead>\n",
       "    <tr style=\"text-align: right;\">\n",
       "      <th></th>\n",
       "      <th>Code_class</th>\n",
       "      <th>Code_largest_spot_size</th>\n",
       "      <th>Code_spot_distribution</th>\n",
       "      <th>Activity</th>\n",
       "      <th>Evolution</th>\n",
       "      <th>Previous_flare_activity</th>\n",
       "      <th>Historically_complex</th>\n",
       "      <th>Region_historically_complex</th>\n",
       "      <th>Area</th>\n",
       "      <th>Area_largest_spot</th>\n",
       "      <th>C-class</th>\n",
       "      <th>M-class</th>\n",
       "      <th>X-class</th>\n",
       "    </tr>\n",
       "  </thead>\n",
       "  <tbody>\n",
       "    <tr>\n",
       "      <td>0</td>\n",
       "      <td>H</td>\n",
       "      <td>A</td>\n",
       "      <td>X</td>\n",
       "      <td>1</td>\n",
       "      <td>3</td>\n",
       "      <td>1</td>\n",
       "      <td>1</td>\n",
       "      <td>1</td>\n",
       "      <td>1</td>\n",
       "      <td>1</td>\n",
       "      <td>0</td>\n",
       "      <td>0</td>\n",
       "      <td>0</td>\n",
       "    </tr>\n",
       "    <tr>\n",
       "      <td>1</td>\n",
       "      <td>D</td>\n",
       "      <td>R</td>\n",
       "      <td>O</td>\n",
       "      <td>1</td>\n",
       "      <td>3</td>\n",
       "      <td>1</td>\n",
       "      <td>1</td>\n",
       "      <td>2</td>\n",
       "      <td>1</td>\n",
       "      <td>1</td>\n",
       "      <td>0</td>\n",
       "      <td>0</td>\n",
       "      <td>0</td>\n",
       "    </tr>\n",
       "    <tr>\n",
       "      <td>2</td>\n",
       "      <td>C</td>\n",
       "      <td>S</td>\n",
       "      <td>O</td>\n",
       "      <td>1</td>\n",
       "      <td>3</td>\n",
       "      <td>1</td>\n",
       "      <td>1</td>\n",
       "      <td>2</td>\n",
       "      <td>1</td>\n",
       "      <td>1</td>\n",
       "      <td>0</td>\n",
       "      <td>0</td>\n",
       "      <td>0</td>\n",
       "    </tr>\n",
       "    <tr>\n",
       "      <td>3</td>\n",
       "      <td>H</td>\n",
       "      <td>R</td>\n",
       "      <td>X</td>\n",
       "      <td>1</td>\n",
       "      <td>2</td>\n",
       "      <td>1</td>\n",
       "      <td>1</td>\n",
       "      <td>1</td>\n",
       "      <td>1</td>\n",
       "      <td>1</td>\n",
       "      <td>0</td>\n",
       "      <td>0</td>\n",
       "      <td>0</td>\n",
       "    </tr>\n",
       "    <tr>\n",
       "      <td>4</td>\n",
       "      <td>H</td>\n",
       "      <td>S</td>\n",
       "      <td>X</td>\n",
       "      <td>1</td>\n",
       "      <td>1</td>\n",
       "      <td>1</td>\n",
       "      <td>1</td>\n",
       "      <td>2</td>\n",
       "      <td>1</td>\n",
       "      <td>1</td>\n",
       "      <td>0</td>\n",
       "      <td>0</td>\n",
       "      <td>0</td>\n",
       "    </tr>\n",
       "  </tbody>\n",
       "</table>\n",
       "</div>"
      ],
      "text/plain": [
       "  Code_class Code_largest_spot_size Code_spot_distribution Activity Evolution  \\\n",
       "0          H                      A                      X        1         3   \n",
       "1          D                      R                      O        1         3   \n",
       "2          C                      S                      O        1         3   \n",
       "3          H                      R                      X        1         2   \n",
       "4          H                      S                      X        1         1   \n",
       "\n",
       "  Previous_flare_activity Historically_complex Region_historically_complex  \\\n",
       "0                       1                    1                           1   \n",
       "1                       1                    1                           2   \n",
       "2                       1                    1                           2   \n",
       "3                       1                    1                           1   \n",
       "4                       1                    1                           2   \n",
       "\n",
       "  Area Area_largest_spot C-class M-class X-class  \n",
       "0    1                 1       0       0       0  \n",
       "1    1                 1       0       0       0  \n",
       "2    1                 1       0       0       0  \n",
       "3    1                 1       0       0       0  \n",
       "4    1                 1       0       0       0  "
      ]
     },
     "execution_count": 298,
     "metadata": {},
     "output_type": "execute_result"
    }
   ],
   "source": [
    "data2 =  pd.read_csv('flare.data2', sep=\",\")\n",
    "data2= data2[\"******* DATA2; 1978 FLARE DATA (08/19/78 to 12/23/78) *****\"].str.split(\" \", expand = True)\n",
    "cmap = {0:'Code_class',1:'Code_largest_spot_size',2:'Code_spot_distribution',3:'Activity',4:'Evolution',5:'Previous_flare_activity',6:\"Historically_complex\",7:'Region_historically_complex',8:'Area',9:'Area_largest_spot',10:'C-class',11:'M-class',12:'X-class'}\n",
    "data2=data2.rename(columns =cmap)\n",
    "data2.head()"
   ]
  },
  {
   "cell_type": "markdown",
   "metadata": {},
   "source": [
    "We will now change the values of the datain our benefit. Since most of the numbers are just a way to represent categorical variables."
   ]
  },
  {
   "cell_type": "code",
   "execution_count": 361,
   "metadata": {},
   "outputs": [],
   "source": [
    "data2[\"Activity\"].replace(['1','2'],[\"Reduced\",\"Unchanged\"], inplace=True)\n",
    "data2[\"Evolution\"].replace(['1','2','3'],[\"Decay\",\"No growth\",\"Growth\"], inplace=True)\n",
    "data2[\"Previous_flare_activity\"].replace(['1','2','3'],[\"Nothing as big as an M1\",\"One M1\",\"More acivity than one M1\"], inplace=True)\n",
    "data2[\"Historically_complex\"].replace(['1','2'],[\"Yes\",\"No\"], inplace=True)\n",
    "data2[\"Region_historically_complex\"].replace(['1','2'],[\"Yes\",\"No\"], inplace=True)\n",
    "data2[\"Area\"].replace(['1','2'],[\"Small\",\"Large\"], inplace=True)\n",
    "data2[\"Area_largest_spot\"].replace(['1','2'],[\"less or equal than 5\",\"more than 5\"], inplace=True)"
   ]
  },
  {
   "cell_type": "code",
   "execution_count": 300,
   "metadata": {},
   "outputs": [
    {
     "data": {
      "text/html": [
       "<div>\n",
       "<style scoped>\n",
       "    .dataframe tbody tr th:only-of-type {\n",
       "        vertical-align: middle;\n",
       "    }\n",
       "\n",
       "    .dataframe tbody tr th {\n",
       "        vertical-align: top;\n",
       "    }\n",
       "\n",
       "    .dataframe thead th {\n",
       "        text-align: right;\n",
       "    }\n",
       "</style>\n",
       "<table border=\"1\" class=\"dataframe\">\n",
       "  <thead>\n",
       "    <tr style=\"text-align: right;\">\n",
       "      <th></th>\n",
       "      <th>Code_class</th>\n",
       "      <th>Code_largest_spot_size</th>\n",
       "      <th>Code_spot_distribution</th>\n",
       "      <th>Activity</th>\n",
       "      <th>Evolution</th>\n",
       "      <th>Previous_flare_activity</th>\n",
       "      <th>Historically_complex</th>\n",
       "      <th>Region_historically_complex</th>\n",
       "      <th>Area</th>\n",
       "      <th>Area_largest_spot</th>\n",
       "      <th>C-class</th>\n",
       "      <th>M-class</th>\n",
       "      <th>X-class</th>\n",
       "    </tr>\n",
       "  </thead>\n",
       "  <tbody>\n",
       "    <tr>\n",
       "      <td>0</td>\n",
       "      <td>H</td>\n",
       "      <td>A</td>\n",
       "      <td>X</td>\n",
       "      <td>Reduced</td>\n",
       "      <td>Growth</td>\n",
       "      <td>Nothing as big as an M1</td>\n",
       "      <td>Yes</td>\n",
       "      <td>Yes</td>\n",
       "      <td>Small</td>\n",
       "      <td>less or equal than 5</td>\n",
       "      <td>0</td>\n",
       "      <td>0</td>\n",
       "      <td>0</td>\n",
       "    </tr>\n",
       "    <tr>\n",
       "      <td>1</td>\n",
       "      <td>D</td>\n",
       "      <td>R</td>\n",
       "      <td>O</td>\n",
       "      <td>Reduced</td>\n",
       "      <td>Growth</td>\n",
       "      <td>Nothing as big as an M1</td>\n",
       "      <td>Yes</td>\n",
       "      <td>No</td>\n",
       "      <td>Small</td>\n",
       "      <td>less or equal than 5</td>\n",
       "      <td>0</td>\n",
       "      <td>0</td>\n",
       "      <td>0</td>\n",
       "    </tr>\n",
       "    <tr>\n",
       "      <td>2</td>\n",
       "      <td>C</td>\n",
       "      <td>S</td>\n",
       "      <td>O</td>\n",
       "      <td>Reduced</td>\n",
       "      <td>Growth</td>\n",
       "      <td>Nothing as big as an M1</td>\n",
       "      <td>Yes</td>\n",
       "      <td>No</td>\n",
       "      <td>Small</td>\n",
       "      <td>less or equal than 5</td>\n",
       "      <td>0</td>\n",
       "      <td>0</td>\n",
       "      <td>0</td>\n",
       "    </tr>\n",
       "    <tr>\n",
       "      <td>3</td>\n",
       "      <td>H</td>\n",
       "      <td>R</td>\n",
       "      <td>X</td>\n",
       "      <td>Reduced</td>\n",
       "      <td>No growth</td>\n",
       "      <td>Nothing as big as an M1</td>\n",
       "      <td>Yes</td>\n",
       "      <td>Yes</td>\n",
       "      <td>Small</td>\n",
       "      <td>less or equal than 5</td>\n",
       "      <td>0</td>\n",
       "      <td>0</td>\n",
       "      <td>0</td>\n",
       "    </tr>\n",
       "    <tr>\n",
       "      <td>4</td>\n",
       "      <td>H</td>\n",
       "      <td>S</td>\n",
       "      <td>X</td>\n",
       "      <td>Reduced</td>\n",
       "      <td>Decay</td>\n",
       "      <td>Nothing as big as an M1</td>\n",
       "      <td>Yes</td>\n",
       "      <td>No</td>\n",
       "      <td>Small</td>\n",
       "      <td>less or equal than 5</td>\n",
       "      <td>0</td>\n",
       "      <td>0</td>\n",
       "      <td>0</td>\n",
       "    </tr>\n",
       "  </tbody>\n",
       "</table>\n",
       "</div>"
      ],
      "text/plain": [
       "  Code_class Code_largest_spot_size Code_spot_distribution Activity  \\\n",
       "0          H                      A                      X  Reduced   \n",
       "1          D                      R                      O  Reduced   \n",
       "2          C                      S                      O  Reduced   \n",
       "3          H                      R                      X  Reduced   \n",
       "4          H                      S                      X  Reduced   \n",
       "\n",
       "   Evolution  Previous_flare_activity Historically_complex  \\\n",
       "0     Growth  Nothing as big as an M1                  Yes   \n",
       "1     Growth  Nothing as big as an M1                  Yes   \n",
       "2     Growth  Nothing as big as an M1                  Yes   \n",
       "3  No growth  Nothing as big as an M1                  Yes   \n",
       "4      Decay  Nothing as big as an M1                  Yes   \n",
       "\n",
       "  Region_historically_complex   Area     Area_largest_spot C-class M-class  \\\n",
       "0                         Yes  Small  less or equal than 5       0       0   \n",
       "1                          No  Small  less or equal than 5       0       0   \n",
       "2                          No  Small  less or equal than 5       0       0   \n",
       "3                         Yes  Small  less or equal than 5       0       0   \n",
       "4                          No  Small  less or equal than 5       0       0   \n",
       "\n",
       "  X-class  \n",
       "0       0  \n",
       "1       0  \n",
       "2       0  \n",
       "3       0  \n",
       "4       0  "
      ]
     },
     "execution_count": 300,
     "metadata": {},
     "output_type": "execute_result"
    }
   ],
   "source": [
    "data2.head()"
   ]
  },
  {
   "cell_type": "code",
   "execution_count": 301,
   "metadata": {},
   "outputs": [
    {
     "data": {
      "text/plain": [
       "(323, 13)"
      ]
     },
     "execution_count": 301,
     "metadata": {},
     "output_type": "execute_result"
    }
   ],
   "source": [
    "data1.shape"
   ]
  },
  {
   "cell_type": "code",
   "execution_count": 302,
   "metadata": {},
   "outputs": [
    {
     "data": {
      "text/plain": [
       "(1066, 13)"
      ]
     },
     "execution_count": 302,
     "metadata": {},
     "output_type": "execute_result"
    }
   ],
   "source": [
    "data2.shape"
   ]
  },
  {
   "cell_type": "code",
   "execution_count": 303,
   "metadata": {},
   "outputs": [
    {
     "name": "stdout",
     "output_type": "stream",
     "text": [
      "<class 'pandas.core.frame.DataFrame'>\n",
      "RangeIndex: 1066 entries, 0 to 1065\n",
      "Data columns (total 13 columns):\n",
      "Code_class                     1066 non-null object\n",
      "Code_largest_spot_size         1066 non-null object\n",
      "Code_spot_distribution         1066 non-null object\n",
      "Activity                       1066 non-null object\n",
      "Evolution                      1066 non-null object\n",
      "Previous_flare_activity        1066 non-null object\n",
      "Historically_complex           1066 non-null object\n",
      "Region_historically_complex    1066 non-null object\n",
      "Area                           1066 non-null object\n",
      "Area_largest_spot              1066 non-null object\n",
      "C-class                        1066 non-null object\n",
      "M-class                        1066 non-null object\n",
      "X-class                        1066 non-null object\n",
      "dtypes: object(13)\n",
      "memory usage: 108.4+ KB\n"
     ]
    }
   ],
   "source": [
    "data2.info()"
   ]
  },
  {
   "cell_type": "code",
   "execution_count": 304,
   "metadata": {},
   "outputs": [
    {
     "data": {
      "text/plain": [
       "Index(['Code_class', 'Code_largest_spot_size', 'Code_spot_distribution',\n",
       "       'Activity', 'Evolution', 'Previous_flare_activity',\n",
       "       'Historically_complex', 'Region_historically_complex', 'Area',\n",
       "       'Area_largest_spot', 'C-class', 'M-class', 'X-class'],\n",
       "      dtype='object')"
      ]
     },
     "execution_count": 304,
     "metadata": {},
     "output_type": "execute_result"
    }
   ],
   "source": [
    "data2.columns"
   ]
  },
  {
   "cell_type": "markdown",
   "metadata": {},
   "source": [
    "## Exploration of Data"
   ]
  },
  {
   "cell_type": "markdown",
   "metadata": {},
   "source": [
    "First we need to check whether or not the dataframe contains any null values"
   ]
  },
  {
   "cell_type": "code",
   "execution_count": 305,
   "metadata": {},
   "outputs": [
    {
     "data": {
      "text/plain": [
       "Code_class                     0\n",
       "Code_largest_spot_size         0\n",
       "Code_spot_distribution         0\n",
       "Activity                       0\n",
       "Evolution                      0\n",
       "Previous_flare_activity        0\n",
       "Historically_complex           0\n",
       "Region_historically_complex    0\n",
       "Area                           0\n",
       "Area_largest_spot              0\n",
       "C-class                        0\n",
       "M-class                        0\n",
       "X-class                        0\n",
       "dtype: int64"
      ]
     },
     "execution_count": 305,
     "metadata": {},
     "output_type": "execute_result"
    }
   ],
   "source": [
    "data2.isnull().sum()"
   ]
  },
  {
   "cell_type": "code",
   "execution_count": 306,
   "metadata": {},
   "outputs": [
    {
     "data": {
      "text/plain": [
       "Code_class                     0\n",
       "Code_largest_spot_size         0\n",
       "Code_spot_distribution         0\n",
       "Activity                       0\n",
       "Evolution                      0\n",
       "Previous_flare_activity        0\n",
       "Historically_complex           0\n",
       "Region_historically_complex    0\n",
       "Area                           0\n",
       "Area_largest_spot              0\n",
       "C-class                        0\n",
       "M-class                        0\n",
       "X-class                        0\n",
       "dtype: int64"
      ]
     },
     "execution_count": 306,
     "metadata": {},
     "output_type": "execute_result"
    }
   ],
   "source": [
    "data2.isna().sum()"
   ]
  },
  {
   "cell_type": "markdown",
   "metadata": {},
   "source": [
    "We'll now display the count of the different variables to see the repartition in the dataframe"
   ]
  },
  {
   "cell_type": "code",
   "execution_count": 307,
   "metadata": {},
   "outputs": [
    {
     "data": {
      "image/png": "[encoded data removed]",
      "text/plain": [
       "<Figure size 1080x360 with 3 Axes>"
      ]
     },
     "metadata": {},
     "output_type": "display_data"
    }
   ],
   "source": [
    "fig, axes = plt.subplots(nrows=1, ncols=3, figsize=(15, 5))\n",
    "\n",
    "data2['Code_class'].value_counts().plot(ax=axes[0],kind='pie',subplots=True,startangle = 0 ,shadow = False\n",
    "                          ,legend = False,autopct = '%1.1f%%', fontsize = 12\n",
    "                          ,radius = 0.9,table = False)\n",
    "axes[0].set_title(\"Z-values repartition\")\n",
    "\n",
    "data2['Code_largest_spot_size'].value_counts().plot(ax=axes[1],kind='pie',subplots=True,startangle = 0 ,shadow = False\n",
    "                          ,legend = False,autopct = '%1.1f%%', fontsize = 12\n",
    "                          ,radius = 0.9,table = False)\n",
    "axes[1].set_title(\"P-values repartition\")\n",
    "\n",
    "data2['Code_spot_distribution'].value_counts().plot(ax=axes[2],kind='pie',subplots=True,startangle = 0 ,shadow = False\n",
    "                          ,legend = False,autopct = '%1.1f%%', fontsize = 12\n",
    "                          ,radius = 0.9,table = False)\n",
    "axes[2].set_title(\"C-values repartition\")\n",
    "\n",
    "plt.tight_layout()"
   ]
  },
  {
   "cell_type": "markdown",
   "metadata": {},
   "source": [
    "This classification is called the McIntosh classification and is based on the general form \"Zpc\" where :<br>\n",
    "-'Z' values represents the modified Zurich class <br>\n",
    "-'P' values describes the penumbra of the principal spot <br>\n",
    "-'C' values describes the distribution of spots in the interior of the group\n"
   ]
  },
  {
   "cell_type": "markdown",
   "metadata": {},
   "source": [
    "We can notice that the most highest number of class for the 'zpc' form is respectively H, S and O <br>\n",
    "-H represents an unipolar sunspot group with penumbra but relatively large <br>\n",
    "-S means that the largest spot has mature, dark, filamentary penumbra of circular or elliptical shape with little irregularity to the border. It's size is rather medium<br>\n",
    "-O implies that it's one of the smallest sunspot distribution but with multiple spots"
   ]
  },
  {
   "cell_type": "code",
   "execution_count": 360,
   "metadata": {},
   "outputs": [
    {
     "data": {
      "image/png": "[encoded data removed]",
      "text/plain": [
       "<Figure size 1080x360 with 3 Axes>"
      ]
     },
     "metadata": {
      "needs_background": "light"
     },
     "output_type": "display_data"
    }
   ],
   "source": [
    "fig, axes = plt.subplots(nrows=1, ncols=3, figsize=(15, 5))\n",
    "\n",
    "sns.countplot(ax = axes[0], x=\"C-class\",data=data2)\n",
    "axes[0].set_title(\"Number of C class\")\n",
    "\n",
    "sns.countplot(ax = axes[1], x=\"C-class\",data=data2)\n",
    "axes[1].set_title(\"Number of M class\")\n",
    "\n",
    "sns.countplot(ax = axes[2], x=\"C-class\",data=data2)\n",
    "axes[2].set_title(\"Number of X class\")\n",
    "\n",
    "plt.tight_layout()"
   ]
  },
  {
   "cell_type": "markdown",
   "metadata": {},
   "source": [
    "Here we're just trying to see if there's a noticeable difference between the proportion in number of the different classes"
   ]
  },
  {
   "cell_type": "code",
   "execution_count": 309,
   "metadata": {},
   "outputs": [
    {
     "data": {
      "image/png": "[encoded data removed]",
      "text/plain": [
       "<Figure size 720x360 with 2 Axes>"
      ]
     },
     "metadata": {},
     "output_type": "display_data"
    }
   ],
   "source": [
    "fig, axes = plt.subplots(nrows=1, ncols=2, figsize=(10, 5))\n",
    "\n",
    "data2['Activity'].value_counts().plot(ax=axes[0],kind='pie',subplots=True,startangle = 0 ,shadow = False\n",
    "                          ,legend = False,autopct = '%1.1f%%', fontsize = 12\n",
    "                          ,radius = 0.9,table = False)\n",
    "axes[0].set_title(\"Activity repartition\")\n",
    "\n",
    "data2['Evolution'].value_counts().plot(ax=axes[1],kind='pie',subplots=True,startangle = 0 ,shadow = False\n",
    "                          ,legend = False,autopct = '%1.1f%%', fontsize = 12\n",
    "                          ,radius = 0.9,table = False)\n",
    "axes[1].set_title(\"Evolution repartition\")\n",
    "\n",
    "plt.tight_layout()"
   ]
  },
  {
   "cell_type": "code",
   "execution_count": 310,
   "metadata": {},
   "outputs": [
    {
     "data": {
      "image/png": "[encoded data removed]",
      "text/plain": [
       "<Figure size 720x360 with 2 Axes>"
      ]
     },
     "metadata": {},
     "output_type": "display_data"
    }
   ],
   "source": [
    "fig, axes = plt.subplots(nrows=1, ncols=2, figsize=(10, 5))\n",
    "\n",
    "data2['Area'].value_counts().plot(ax=axes[0],kind='pie',subplots=True,startangle = 0 ,shadow = False\n",
    "                          ,legend = False,autopct = '%1.1f%%', fontsize = 12\n",
    "                          ,radius = 0.9,table = False)\n",
    "axes[0].set_title(\"Area repartition\")\n",
    "\n",
    "data2['Area_largest_spot'].value_counts().plot(ax=axes[1],kind='pie',subplots=True,startangle = 0 ,shadow = False\n",
    "                          ,legend = False,autopct = '%1.1f%%', fontsize = 12\n",
    "                          ,radius = 0.9,table = False)\n",
    "axes[1].set_title(\"Largest Spot repartition\")\n",
    "\n",
    "plt.tight_layout()"
   ]
  },
  {
   "cell_type": "markdown",
   "metadata": {},
   "source": [
    "Not only most of the area covered by the solar flares is relatively small, there is not a single place where the area of the largest spot is greater than 5"
   ]
  },
  {
   "cell_type": "code",
   "execution_count": 349,
   "metadata": {},
   "outputs": [
    {
     "data": {
      "image/png": "[encoded data removed]",
      "text/plain": [
       "<Figure size 1296x360 with 3 Axes>"
      ]
     },
     "metadata": {},
     "output_type": "display_data"
    }
   ],
   "source": [
    "fig, axes = plt.subplots(nrows=1, ncols=3, figsize=(18, 5))\n",
    "\n",
    "data2['Previous_flare_activity'].value_counts().plot(ax=axes[0],kind='pie',subplots=True,startangle = 0 ,shadow = False\n",
    "                          ,legend = False,autopct = '%1.1f%%', fontsize = 12\n",
    "                          ,radius = 0.9,table = False)\n",
    "axes[0].set_title(\"Previous flare activity repartition\")\n",
    "\n",
    "data2['Historically_complex'].value_counts().plot(ax=axes[1],kind='pie',subplots=True,startangle = 0 ,shadow = False\n",
    "                          ,legend = False,autopct = '%1.1f%%', fontsize = 12\n",
    "                          ,radius = 0.9,table = False)\n",
    "axes[1].set_title(\"Historically complexe repartition\")\n",
    "\n",
    "data2['Region_historically_complex'].value_counts().plot(ax=axes[2],kind='pie',subplots=True,startangle = 0 ,shadow = False\n",
    "                          ,legend = False,autopct = '%1.1f%%', fontsize = 12\n",
    "                          ,radius = 0.9,table = False)\n",
    "axes[2].set_title(\"Region historically complex repartition\")\n",
    "\n",
    "plt.tight_layout()"
   ]
  },
  {
   "cell_type": "markdown",
   "metadata": {},
   "source": [
    "## Relationship between variables"
   ]
  },
  {
   "cell_type": "markdown",
   "metadata": {},
   "source": [
    "We will now try to see if there's any relationship linking the variables"
   ]
  },
  {
   "cell_type": "code",
   "execution_count": 312,
   "metadata": {},
   "outputs": [
    {
     "data": {
      "text/plain": [
       "<matplotlib.axes._subplots.AxesSubplot at 0x2aaec525b08>"
      ]
     },
     "execution_count": 312,
     "metadata": {},
     "output_type": "execute_result"
    },
    {
     "data": {
      "image/png": "[encoded data removed]",
      "text/plain": [
       "<Figure size 720x360 with 1 Axes>"
      ]
     },
     "metadata": {
      "needs_background": "light"
     },
     "output_type": "display_data"
    }
   ],
   "source": [
    "CrosstabResult=pd.crosstab(index=data2['C-class'],columns=data2['Evolution'])\n",
    "CrosstabResult.plot.bar(figsize=(10,5), rot=0)"
   ]
  },
  {
   "cell_type": "code",
   "execution_count": 313,
   "metadata": {},
   "outputs": [
    {
     "data": {
      "text/plain": [
       "<matplotlib.axes._subplots.AxesSubplot at 0x2aaec77f088>"
      ]
     },
     "execution_count": 313,
     "metadata": {},
     "output_type": "execute_result"
    },
    {
     "data": {
      "image/png": "[encoded data removed]",
      "text/plain": [
       "<Figure size 720x360 with 1 Axes>"
      ]
     },
     "metadata": {
      "needs_background": "light"
     },
     "output_type": "display_data"
    }
   ],
   "source": [
    "CrosstabResult=pd.crosstab(index=data2['M-class'],columns=data2['Evolution'])\n",
    "CrosstabResult.plot.bar(figsize=(10,5), rot=0)"
   ]
  },
  {
   "cell_type": "code",
   "execution_count": 314,
   "metadata": {},
   "outputs": [
    {
     "data": {
      "text/plain": [
       "<matplotlib.axes._subplots.AxesSubplot at 0x2aaec7b8448>"
      ]
     },
     "execution_count": 314,
     "metadata": {},
     "output_type": "execute_result"
    },
    {
     "data": {
      "image/png": "[encoded data removed]",
      "text/plain": [
       "<Figure size 720x360 with 1 Axes>"
      ]
     },
     "metadata": {
      "needs_background": "light"
     },
     "output_type": "display_data"
    }
   ],
   "source": [
    "CrosstabResult=pd.crosstab(index=data2['X-class'],columns=data2['Evolution'])\n",
    "CrosstabResult.plot.bar(figsize=(10,5), rot=0)"
   ]
  },
  {
   "cell_type": "markdown",
   "metadata": {},
   "source": [
    "We can notice a slight disproportion in the evolution of the region where there was 2 C-class spotted and the region where there was 1 M-class<br>\n",
    "In both cases there is a majority of 'Growth' in the evolution section"
   ]
  },
  {
   "cell_type": "code",
   "execution_count": 315,
   "metadata": {},
   "outputs": [
    {
     "data": {
      "text/html": [
       "<div>\n",
       "<style scoped>\n",
       "    .dataframe tbody tr th:only-of-type {\n",
       "        vertical-align: middle;\n",
       "    }\n",
       "\n",
       "    .dataframe tbody tr th {\n",
       "        vertical-align: top;\n",
       "    }\n",
       "\n",
       "    .dataframe thead th {\n",
       "        text-align: right;\n",
       "    }\n",
       "</style>\n",
       "<table border=\"1\" class=\"dataframe\">\n",
       "  <thead>\n",
       "    <tr style=\"text-align: right;\">\n",
       "      <th></th>\n",
       "      <th>Code_class</th>\n",
       "      <th>Code_largest_spot_size</th>\n",
       "      <th>Code_spot_distribution</th>\n",
       "      <th>Activity</th>\n",
       "      <th>Evolution</th>\n",
       "      <th>Previous_flare_activity</th>\n",
       "      <th>Historically_complex</th>\n",
       "      <th>Region_historically_complex</th>\n",
       "      <th>Area</th>\n",
       "      <th>Area_largest_spot</th>\n",
       "      <th>C-class</th>\n",
       "      <th>M-class</th>\n",
       "      <th>X-class</th>\n",
       "    </tr>\n",
       "  </thead>\n",
       "  <tbody>\n",
       "    <tr>\n",
       "      <td>1022</td>\n",
       "      <td>D</td>\n",
       "      <td>A</td>\n",
       "      <td>I</td>\n",
       "      <td>Reduced</td>\n",
       "      <td>Decay</td>\n",
       "      <td>Nothing as big as an M1</td>\n",
       "      <td>No</td>\n",
       "      <td>No</td>\n",
       "      <td>Small</td>\n",
       "      <td>less or equal than 5</td>\n",
       "      <td>1</td>\n",
       "      <td>1</td>\n",
       "      <td>0</td>\n",
       "    </tr>\n",
       "    <tr>\n",
       "      <td>37</td>\n",
       "      <td>E</td>\n",
       "      <td>A</td>\n",
       "      <td>C</td>\n",
       "      <td>Reduced</td>\n",
       "      <td>Growth</td>\n",
       "      <td>Nothing as big as an M1</td>\n",
       "      <td>Yes</td>\n",
       "      <td>No</td>\n",
       "      <td>Small</td>\n",
       "      <td>less or equal than 5</td>\n",
       "      <td>3</td>\n",
       "      <td>1</td>\n",
       "      <td>0</td>\n",
       "    </tr>\n",
       "    <tr>\n",
       "      <td>1018</td>\n",
       "      <td>D</td>\n",
       "      <td>S</td>\n",
       "      <td>O</td>\n",
       "      <td>Reduced</td>\n",
       "      <td>Growth</td>\n",
       "      <td>Nothing as big as an M1</td>\n",
       "      <td>Yes</td>\n",
       "      <td>No</td>\n",
       "      <td>Small</td>\n",
       "      <td>less or equal than 5</td>\n",
       "      <td>2</td>\n",
       "      <td>1</td>\n",
       "      <td>0</td>\n",
       "    </tr>\n",
       "    <tr>\n",
       "      <td>1009</td>\n",
       "      <td>E</td>\n",
       "      <td>K</td>\n",
       "      <td>C</td>\n",
       "      <td>Unchanged</td>\n",
       "      <td>Growth</td>\n",
       "      <td>Nothing as big as an M1</td>\n",
       "      <td>No</td>\n",
       "      <td>No</td>\n",
       "      <td>Large</td>\n",
       "      <td>less or equal than 5</td>\n",
       "      <td>2</td>\n",
       "      <td>1</td>\n",
       "      <td>0</td>\n",
       "    </tr>\n",
       "    <tr>\n",
       "      <td>830</td>\n",
       "      <td>D</td>\n",
       "      <td>A</td>\n",
       "      <td>I</td>\n",
       "      <td>Reduced</td>\n",
       "      <td>Growth</td>\n",
       "      <td>Nothing as big as an M1</td>\n",
       "      <td>No</td>\n",
       "      <td>No</td>\n",
       "      <td>Small</td>\n",
       "      <td>less or equal than 5</td>\n",
       "      <td>0</td>\n",
       "      <td>1</td>\n",
       "      <td>0</td>\n",
       "    </tr>\n",
       "    <tr>\n",
       "      <td>819</td>\n",
       "      <td>D</td>\n",
       "      <td>A</td>\n",
       "      <td>I</td>\n",
       "      <td>Reduced</td>\n",
       "      <td>Growth</td>\n",
       "      <td>Nothing as big as an M1</td>\n",
       "      <td>Yes</td>\n",
       "      <td>No</td>\n",
       "      <td>Small</td>\n",
       "      <td>less or equal than 5</td>\n",
       "      <td>0</td>\n",
       "      <td>1</td>\n",
       "      <td>0</td>\n",
       "    </tr>\n",
       "    <tr>\n",
       "      <td>701</td>\n",
       "      <td>E</td>\n",
       "      <td>H</td>\n",
       "      <td>I</td>\n",
       "      <td>Reduced</td>\n",
       "      <td>Growth</td>\n",
       "      <td>Nothing as big as an M1</td>\n",
       "      <td>No</td>\n",
       "      <td>No</td>\n",
       "      <td>Small</td>\n",
       "      <td>less or equal than 5</td>\n",
       "      <td>1</td>\n",
       "      <td>1</td>\n",
       "      <td>0</td>\n",
       "    </tr>\n",
       "    <tr>\n",
       "      <td>700</td>\n",
       "      <td>F</td>\n",
       "      <td>A</td>\n",
       "      <td>I</td>\n",
       "      <td>Unchanged</td>\n",
       "      <td>Growth</td>\n",
       "      <td>Nothing as big as an M1</td>\n",
       "      <td>No</td>\n",
       "      <td>No</td>\n",
       "      <td>Large</td>\n",
       "      <td>less or equal than 5</td>\n",
       "      <td>1</td>\n",
       "      <td>1</td>\n",
       "      <td>0</td>\n",
       "    </tr>\n",
       "    <tr>\n",
       "      <td>589</td>\n",
       "      <td>C</td>\n",
       "      <td>S</td>\n",
       "      <td>O</td>\n",
       "      <td>Reduced</td>\n",
       "      <td>Growth</td>\n",
       "      <td>Nothing as big as an M1</td>\n",
       "      <td>No</td>\n",
       "      <td>No</td>\n",
       "      <td>Small</td>\n",
       "      <td>less or equal than 5</td>\n",
       "      <td>2</td>\n",
       "      <td>1</td>\n",
       "      <td>0</td>\n",
       "    </tr>\n",
       "    <tr>\n",
       "      <td>501</td>\n",
       "      <td>E</td>\n",
       "      <td>S</td>\n",
       "      <td>I</td>\n",
       "      <td>Reduced</td>\n",
       "      <td>Growth</td>\n",
       "      <td>Nothing as big as an M1</td>\n",
       "      <td>No</td>\n",
       "      <td>No</td>\n",
       "      <td>Small</td>\n",
       "      <td>less or equal than 5</td>\n",
       "      <td>5</td>\n",
       "      <td>1</td>\n",
       "      <td>0</td>\n",
       "    </tr>\n",
       "    <tr>\n",
       "      <td>495</td>\n",
       "      <td>D</td>\n",
       "      <td>A</td>\n",
       "      <td>I</td>\n",
       "      <td>Reduced</td>\n",
       "      <td>Growth</td>\n",
       "      <td>Nothing as big as an M1</td>\n",
       "      <td>No</td>\n",
       "      <td>No</td>\n",
       "      <td>Small</td>\n",
       "      <td>less or equal than 5</td>\n",
       "      <td>0</td>\n",
       "      <td>1</td>\n",
       "      <td>0</td>\n",
       "    </tr>\n",
       "    <tr>\n",
       "      <td>453</td>\n",
       "      <td>D</td>\n",
       "      <td>R</td>\n",
       "      <td>O</td>\n",
       "      <td>Reduced</td>\n",
       "      <td>Growth</td>\n",
       "      <td>Nothing as big as an M1</td>\n",
       "      <td>Yes</td>\n",
       "      <td>No</td>\n",
       "      <td>Small</td>\n",
       "      <td>less or equal than 5</td>\n",
       "      <td>0</td>\n",
       "      <td>1</td>\n",
       "      <td>0</td>\n",
       "    </tr>\n",
       "    <tr>\n",
       "      <td>481</td>\n",
       "      <td>D</td>\n",
       "      <td>A</td>\n",
       "      <td>I</td>\n",
       "      <td>Unchanged</td>\n",
       "      <td>Growth</td>\n",
       "      <td>Nothing as big as an M1</td>\n",
       "      <td>No</td>\n",
       "      <td>No</td>\n",
       "      <td>Small</td>\n",
       "      <td>less or equal than 5</td>\n",
       "      <td>0</td>\n",
       "      <td>1</td>\n",
       "      <td>0</td>\n",
       "    </tr>\n",
       "    <tr>\n",
       "      <td>376</td>\n",
       "      <td>D</td>\n",
       "      <td>K</td>\n",
       "      <td>I</td>\n",
       "      <td>Unchanged</td>\n",
       "      <td>Growth</td>\n",
       "      <td>Nothing as big as an M1</td>\n",
       "      <td>No</td>\n",
       "      <td>No</td>\n",
       "      <td>Small</td>\n",
       "      <td>less or equal than 5</td>\n",
       "      <td>3</td>\n",
       "      <td>1</td>\n",
       "      <td>0</td>\n",
       "    </tr>\n",
       "    <tr>\n",
       "      <td>373</td>\n",
       "      <td>C</td>\n",
       "      <td>S</td>\n",
       "      <td>O</td>\n",
       "      <td>Unchanged</td>\n",
       "      <td>Growth</td>\n",
       "      <td>More acivity than one M1</td>\n",
       "      <td>Yes</td>\n",
       "      <td>No</td>\n",
       "      <td>Small</td>\n",
       "      <td>less or equal than 5</td>\n",
       "      <td>0</td>\n",
       "      <td>1</td>\n",
       "      <td>0</td>\n",
       "    </tr>\n",
       "    <tr>\n",
       "      <td>324</td>\n",
       "      <td>C</td>\n",
       "      <td>S</td>\n",
       "      <td>O</td>\n",
       "      <td>Reduced</td>\n",
       "      <td>Growth</td>\n",
       "      <td>Nothing as big as an M1</td>\n",
       "      <td>Yes</td>\n",
       "      <td>No</td>\n",
       "      <td>Small</td>\n",
       "      <td>less or equal than 5</td>\n",
       "      <td>0</td>\n",
       "      <td>1</td>\n",
       "      <td>0</td>\n",
       "    </tr>\n",
       "    <tr>\n",
       "      <td>210</td>\n",
       "      <td>D</td>\n",
       "      <td>A</td>\n",
       "      <td>I</td>\n",
       "      <td>Reduced</td>\n",
       "      <td>Growth</td>\n",
       "      <td>Nothing as big as an M1</td>\n",
       "      <td>Yes</td>\n",
       "      <td>No</td>\n",
       "      <td>Small</td>\n",
       "      <td>less or equal than 5</td>\n",
       "      <td>0</td>\n",
       "      <td>1</td>\n",
       "      <td>0</td>\n",
       "    </tr>\n",
       "    <tr>\n",
       "      <td>171</td>\n",
       "      <td>E</td>\n",
       "      <td>K</td>\n",
       "      <td>C</td>\n",
       "      <td>Reduced</td>\n",
       "      <td>Growth</td>\n",
       "      <td>Nothing as big as an M1</td>\n",
       "      <td>No</td>\n",
       "      <td>No</td>\n",
       "      <td>Large</td>\n",
       "      <td>less or equal than 5</td>\n",
       "      <td>2</td>\n",
       "      <td>1</td>\n",
       "      <td>0</td>\n",
       "    </tr>\n",
       "    <tr>\n",
       "      <td>163</td>\n",
       "      <td>E</td>\n",
       "      <td>K</td>\n",
       "      <td>C</td>\n",
       "      <td>Reduced</td>\n",
       "      <td>Growth</td>\n",
       "      <td>Nothing as big as an M1</td>\n",
       "      <td>No</td>\n",
       "      <td>No</td>\n",
       "      <td>Small</td>\n",
       "      <td>less or equal than 5</td>\n",
       "      <td>0</td>\n",
       "      <td>1</td>\n",
       "      <td>0</td>\n",
       "    </tr>\n",
       "    <tr>\n",
       "      <td>57</td>\n",
       "      <td>D</td>\n",
       "      <td>R</td>\n",
       "      <td>O</td>\n",
       "      <td>Reduced</td>\n",
       "      <td>Growth</td>\n",
       "      <td>Nothing as big as an M1</td>\n",
       "      <td>Yes</td>\n",
       "      <td>No</td>\n",
       "      <td>Small</td>\n",
       "      <td>less or equal than 5</td>\n",
       "      <td>1</td>\n",
       "      <td>1</td>\n",
       "      <td>0</td>\n",
       "    </tr>\n",
       "    <tr>\n",
       "      <td>441</td>\n",
       "      <td>C</td>\n",
       "      <td>R</td>\n",
       "      <td>O</td>\n",
       "      <td>Reduced</td>\n",
       "      <td>Growth</td>\n",
       "      <td>Nothing as big as an M1</td>\n",
       "      <td>Yes</td>\n",
       "      <td>No</td>\n",
       "      <td>Small</td>\n",
       "      <td>less or equal than 5</td>\n",
       "      <td>0</td>\n",
       "      <td>1</td>\n",
       "      <td>0</td>\n",
       "    </tr>\n",
       "    <tr>\n",
       "      <td>368</td>\n",
       "      <td>H</td>\n",
       "      <td>S</td>\n",
       "      <td>X</td>\n",
       "      <td>Reduced</td>\n",
       "      <td>No growth</td>\n",
       "      <td>Nothing as big as an M1</td>\n",
       "      <td>Yes</td>\n",
       "      <td>Yes</td>\n",
       "      <td>Small</td>\n",
       "      <td>less or equal than 5</td>\n",
       "      <td>0</td>\n",
       "      <td>1</td>\n",
       "      <td>0</td>\n",
       "    </tr>\n",
       "    <tr>\n",
       "      <td>356</td>\n",
       "      <td>D</td>\n",
       "      <td>A</td>\n",
       "      <td>I</td>\n",
       "      <td>Unchanged</td>\n",
       "      <td>No growth</td>\n",
       "      <td>Nothing as big as an M1</td>\n",
       "      <td>No</td>\n",
       "      <td>No</td>\n",
       "      <td>Small</td>\n",
       "      <td>less or equal than 5</td>\n",
       "      <td>0</td>\n",
       "      <td>1</td>\n",
       "      <td>0</td>\n",
       "    </tr>\n",
       "    <tr>\n",
       "      <td>305</td>\n",
       "      <td>H</td>\n",
       "      <td>A</td>\n",
       "      <td>X</td>\n",
       "      <td>Reduced</td>\n",
       "      <td>No growth</td>\n",
       "      <td>Nothing as big as an M1</td>\n",
       "      <td>No</td>\n",
       "      <td>No</td>\n",
       "      <td>Small</td>\n",
       "      <td>less or equal than 5</td>\n",
       "      <td>0</td>\n",
       "      <td>1</td>\n",
       "      <td>0</td>\n",
       "    </tr>\n",
       "    <tr>\n",
       "      <td>234</td>\n",
       "      <td>B</td>\n",
       "      <td>X</td>\n",
       "      <td>I</td>\n",
       "      <td>Reduced</td>\n",
       "      <td>No growth</td>\n",
       "      <td>Nothing as big as an M1</td>\n",
       "      <td>No</td>\n",
       "      <td>No</td>\n",
       "      <td>Small</td>\n",
       "      <td>less or equal than 5</td>\n",
       "      <td>0</td>\n",
       "      <td>1</td>\n",
       "      <td>0</td>\n",
       "    </tr>\n",
       "    <tr>\n",
       "      <td>839</td>\n",
       "      <td>D</td>\n",
       "      <td>S</td>\n",
       "      <td>O</td>\n",
       "      <td>Unchanged</td>\n",
       "      <td>No growth</td>\n",
       "      <td>One M1</td>\n",
       "      <td>No</td>\n",
       "      <td>No</td>\n",
       "      <td>Small</td>\n",
       "      <td>less or equal than 5</td>\n",
       "      <td>1</td>\n",
       "      <td>1</td>\n",
       "      <td>0</td>\n",
       "    </tr>\n",
       "    <tr>\n",
       "      <td>917</td>\n",
       "      <td>E</td>\n",
       "      <td>A</td>\n",
       "      <td>O</td>\n",
       "      <td>Reduced</td>\n",
       "      <td>No growth</td>\n",
       "      <td>Nothing as big as an M1</td>\n",
       "      <td>No</td>\n",
       "      <td>No</td>\n",
       "      <td>Small</td>\n",
       "      <td>less or equal than 5</td>\n",
       "      <td>0</td>\n",
       "      <td>1</td>\n",
       "      <td>0</td>\n",
       "    </tr>\n",
       "    <tr>\n",
       "      <td>950</td>\n",
       "      <td>F</td>\n",
       "      <td>K</td>\n",
       "      <td>C</td>\n",
       "      <td>Reduced</td>\n",
       "      <td>No growth</td>\n",
       "      <td>Nothing as big as an M1</td>\n",
       "      <td>No</td>\n",
       "      <td>No</td>\n",
       "      <td>Large</td>\n",
       "      <td>less or equal than 5</td>\n",
       "      <td>0</td>\n",
       "      <td>1</td>\n",
       "      <td>1</td>\n",
       "    </tr>\n",
       "    <tr>\n",
       "      <td>1046</td>\n",
       "      <td>E</td>\n",
       "      <td>A</td>\n",
       "      <td>O</td>\n",
       "      <td>Reduced</td>\n",
       "      <td>No growth</td>\n",
       "      <td>Nothing as big as an M1</td>\n",
       "      <td>No</td>\n",
       "      <td>No</td>\n",
       "      <td>Small</td>\n",
       "      <td>less or equal than 5</td>\n",
       "      <td>4</td>\n",
       "      <td>1</td>\n",
       "      <td>0</td>\n",
       "    </tr>\n",
       "  </tbody>\n",
       "</table>\n",
       "</div>"
      ],
      "text/plain": [
       "     Code_class Code_largest_spot_size Code_spot_distribution   Activity  \\\n",
       "1022          D                      A                      I    Reduced   \n",
       "37            E                      A                      C    Reduced   \n",
       "1018          D                      S                      O    Reduced   \n",
       "1009          E                      K                      C  Unchanged   \n",
       "830           D                      A                      I    Reduced   \n",
       "819           D                      A                      I    Reduced   \n",
       "701           E                      H                      I    Reduced   \n",
       "700           F                      A                      I  Unchanged   \n",
       "589           C                      S                      O    Reduced   \n",
       "501           E                      S                      I    Reduced   \n",
       "495           D                      A                      I    Reduced   \n",
       "453           D                      R                      O    Reduced   \n",
       "481           D                      A                      I  Unchanged   \n",
       "376           D                      K                      I  Unchanged   \n",
       "373           C                      S                      O  Unchanged   \n",
       "324           C                      S                      O    Reduced   \n",
       "210           D                      A                      I    Reduced   \n",
       "171           E                      K                      C    Reduced   \n",
       "163           E                      K                      C    Reduced   \n",
       "57            D                      R                      O    Reduced   \n",
       "441           C                      R                      O    Reduced   \n",
       "368           H                      S                      X    Reduced   \n",
       "356           D                      A                      I  Unchanged   \n",
       "305           H                      A                      X    Reduced   \n",
       "234           B                      X                      I    Reduced   \n",
       "839           D                      S                      O  Unchanged   \n",
       "917           E                      A                      O    Reduced   \n",
       "950           F                      K                      C    Reduced   \n",
       "1046          E                      A                      O    Reduced   \n",
       "\n",
       "      Evolution   Previous_flare_activity Historically_complex  \\\n",
       "1022      Decay   Nothing as big as an M1                   No   \n",
       "37       Growth   Nothing as big as an M1                  Yes   \n",
       "1018     Growth   Nothing as big as an M1                  Yes   \n",
       "1009     Growth   Nothing as big as an M1                   No   \n",
       "830      Growth   Nothing as big as an M1                   No   \n",
       "819      Growth   Nothing as big as an M1                  Yes   \n",
       "701      Growth   Nothing as big as an M1                   No   \n",
       "700      Growth   Nothing as big as an M1                   No   \n",
       "589      Growth   Nothing as big as an M1                   No   \n",
       "501      Growth   Nothing as big as an M1                   No   \n",
       "495      Growth   Nothing as big as an M1                   No   \n",
       "453      Growth   Nothing as big as an M1                  Yes   \n",
       "481      Growth   Nothing as big as an M1                   No   \n",
       "376      Growth   Nothing as big as an M1                   No   \n",
       "373      Growth  More acivity than one M1                  Yes   \n",
       "324      Growth   Nothing as big as an M1                  Yes   \n",
       "210      Growth   Nothing as big as an M1                  Yes   \n",
       "171      Growth   Nothing as big as an M1                   No   \n",
       "163      Growth   Nothing as big as an M1                   No   \n",
       "57       Growth   Nothing as big as an M1                  Yes   \n",
       "441      Growth   Nothing as big as an M1                  Yes   \n",
       "368   No growth   Nothing as big as an M1                  Yes   \n",
       "356   No growth   Nothing as big as an M1                   No   \n",
       "305   No growth   Nothing as big as an M1                   No   \n",
       "234   No growth   Nothing as big as an M1                   No   \n",
       "839   No growth                    One M1                   No   \n",
       "917   No growth   Nothing as big as an M1                   No   \n",
       "950   No growth   Nothing as big as an M1                   No   \n",
       "1046  No growth   Nothing as big as an M1                   No   \n",
       "\n",
       "     Region_historically_complex   Area     Area_largest_spot C-class M-class  \\\n",
       "1022                          No  Small  less or equal than 5       1       1   \n",
       "37                            No  Small  less or equal than 5       3       1   \n",
       "1018                          No  Small  less or equal than 5       2       1   \n",
       "1009                          No  Large  less or equal than 5       2       1   \n",
       "830                           No  Small  less or equal than 5       0       1   \n",
       "819                           No  Small  less or equal than 5       0       1   \n",
       "701                           No  Small  less or equal than 5       1       1   \n",
       "700                           No  Large  less or equal than 5       1       1   \n",
       "589                           No  Small  less or equal than 5       2       1   \n",
       "501                           No  Small  less or equal than 5       5       1   \n",
       "495                           No  Small  less or equal than 5       0       1   \n",
       "453                           No  Small  less or equal than 5       0       1   \n",
       "481                           No  Small  less or equal than 5       0       1   \n",
       "376                           No  Small  less or equal than 5       3       1   \n",
       "373                           No  Small  less or equal than 5       0       1   \n",
       "324                           No  Small  less or equal than 5       0       1   \n",
       "210                           No  Small  less or equal than 5       0       1   \n",
       "171                           No  Large  less or equal than 5       2       1   \n",
       "163                           No  Small  less or equal than 5       0       1   \n",
       "57                            No  Small  less or equal than 5       1       1   \n",
       "441                           No  Small  less or equal than 5       0       1   \n",
       "368                          Yes  Small  less or equal than 5       0       1   \n",
       "356                           No  Small  less or equal than 5       0       1   \n",
       "305                           No  Small  less or equal than 5       0       1   \n",
       "234                           No  Small  less or equal than 5       0       1   \n",
       "839                           No  Small  less or equal than 5       1       1   \n",
       "917                           No  Small  less or equal than 5       0       1   \n",
       "950                           No  Large  less or equal than 5       0       1   \n",
       "1046                          No  Small  less or equal than 5       4       1   \n",
       "\n",
       "     X-class  \n",
       "1022       0  \n",
       "37         0  \n",
       "1018       0  \n",
       "1009       0  \n",
       "830        0  \n",
       "819        0  \n",
       "701        0  \n",
       "700        0  \n",
       "589        0  \n",
       "501        0  \n",
       "495        0  \n",
       "453        0  \n",
       "481        0  \n",
       "376        0  \n",
       "373        0  \n",
       "324        0  \n",
       "210        0  \n",
       "171        0  \n",
       "163        0  \n",
       "57         0  \n",
       "441        0  \n",
       "368        0  \n",
       "356        0  \n",
       "305        0  \n",
       "234        0  \n",
       "839        0  \n",
       "917        0  \n",
       "950        1  \n",
       "1046       0  "
      ]
     },
     "execution_count": 315,
     "metadata": {},
     "output_type": "execute_result"
    }
   ],
   "source": [
    "data2[data2['M-class']=='1'].sort_values(by='Evolution')"
   ]
  },
  {
   "cell_type": "code",
   "execution_count": 316,
   "metadata": {},
   "outputs": [
    {
     "data": {
      "text/html": [
       "<div>\n",
       "<style scoped>\n",
       "    .dataframe tbody tr th:only-of-type {\n",
       "        vertical-align: middle;\n",
       "    }\n",
       "\n",
       "    .dataframe tbody tr th {\n",
       "        vertical-align: top;\n",
       "    }\n",
       "\n",
       "    .dataframe thead th {\n",
       "        text-align: right;\n",
       "    }\n",
       "</style>\n",
       "<table border=\"1\" class=\"dataframe\">\n",
       "  <thead>\n",
       "    <tr style=\"text-align: right;\">\n",
       "      <th></th>\n",
       "      <th>Code_class</th>\n",
       "      <th>Code_largest_spot_size</th>\n",
       "      <th>Code_spot_distribution</th>\n",
       "      <th>Activity</th>\n",
       "      <th>Evolution</th>\n",
       "      <th>Previous_flare_activity</th>\n",
       "      <th>Historically_complex</th>\n",
       "      <th>Region_historically_complex</th>\n",
       "      <th>Area</th>\n",
       "      <th>Area_largest_spot</th>\n",
       "      <th>C-class</th>\n",
       "      <th>M-class</th>\n",
       "      <th>X-class</th>\n",
       "    </tr>\n",
       "  </thead>\n",
       "  <tbody>\n",
       "    <tr>\n",
       "      <td>26</td>\n",
       "      <td>D</td>\n",
       "      <td>A</td>\n",
       "      <td>I</td>\n",
       "      <td>Unchanged</td>\n",
       "      <td>Growth</td>\n",
       "      <td>Nothing as big as an M1</td>\n",
       "      <td>Yes</td>\n",
       "      <td>No</td>\n",
       "      <td>Small</td>\n",
       "      <td>less or equal than 5</td>\n",
       "      <td>2</td>\n",
       "      <td>0</td>\n",
       "      <td>0</td>\n",
       "    </tr>\n",
       "    <tr>\n",
       "      <td>885</td>\n",
       "      <td>D</td>\n",
       "      <td>S</td>\n",
       "      <td>O</td>\n",
       "      <td>Reduced</td>\n",
       "      <td>Growth</td>\n",
       "      <td>Nothing as big as an M1</td>\n",
       "      <td>Yes</td>\n",
       "      <td>No</td>\n",
       "      <td>Small</td>\n",
       "      <td>less or equal than 5</td>\n",
       "      <td>2</td>\n",
       "      <td>2</td>\n",
       "      <td>0</td>\n",
       "    </tr>\n",
       "    <tr>\n",
       "      <td>860</td>\n",
       "      <td>D</td>\n",
       "      <td>K</td>\n",
       "      <td>I</td>\n",
       "      <td>Unchanged</td>\n",
       "      <td>Growth</td>\n",
       "      <td>Nothing as big as an M1</td>\n",
       "      <td>No</td>\n",
       "      <td>No</td>\n",
       "      <td>Small</td>\n",
       "      <td>less or equal than 5</td>\n",
       "      <td>2</td>\n",
       "      <td>0</td>\n",
       "      <td>0</td>\n",
       "    </tr>\n",
       "    <tr>\n",
       "      <td>835</td>\n",
       "      <td>H</td>\n",
       "      <td>S</td>\n",
       "      <td>X</td>\n",
       "      <td>Reduced</td>\n",
       "      <td>Growth</td>\n",
       "      <td>Nothing as big as an M1</td>\n",
       "      <td>Yes</td>\n",
       "      <td>Yes</td>\n",
       "      <td>Small</td>\n",
       "      <td>less or equal than 5</td>\n",
       "      <td>2</td>\n",
       "      <td>0</td>\n",
       "      <td>0</td>\n",
       "    </tr>\n",
       "    <tr>\n",
       "      <td>816</td>\n",
       "      <td>D</td>\n",
       "      <td>A</td>\n",
       "      <td>I</td>\n",
       "      <td>Reduced</td>\n",
       "      <td>Growth</td>\n",
       "      <td>Nothing as big as an M1</td>\n",
       "      <td>No</td>\n",
       "      <td>No</td>\n",
       "      <td>Small</td>\n",
       "      <td>less or equal than 5</td>\n",
       "      <td>2</td>\n",
       "      <td>0</td>\n",
       "      <td>0</td>\n",
       "    </tr>\n",
       "    <tr>\n",
       "      <td>644</td>\n",
       "      <td>F</td>\n",
       "      <td>S</td>\n",
       "      <td>I</td>\n",
       "      <td>Reduced</td>\n",
       "      <td>Growth</td>\n",
       "      <td>Nothing as big as an M1</td>\n",
       "      <td>No</td>\n",
       "      <td>No</td>\n",
       "      <td>Small</td>\n",
       "      <td>less or equal than 5</td>\n",
       "      <td>2</td>\n",
       "      <td>0</td>\n",
       "      <td>0</td>\n",
       "    </tr>\n",
       "    <tr>\n",
       "      <td>589</td>\n",
       "      <td>C</td>\n",
       "      <td>S</td>\n",
       "      <td>O</td>\n",
       "      <td>Reduced</td>\n",
       "      <td>Growth</td>\n",
       "      <td>Nothing as big as an M1</td>\n",
       "      <td>No</td>\n",
       "      <td>No</td>\n",
       "      <td>Small</td>\n",
       "      <td>less or equal than 5</td>\n",
       "      <td>2</td>\n",
       "      <td>1</td>\n",
       "      <td>0</td>\n",
       "    </tr>\n",
       "    <tr>\n",
       "      <td>452</td>\n",
       "      <td>E</td>\n",
       "      <td>A</td>\n",
       "      <td>I</td>\n",
       "      <td>Unchanged</td>\n",
       "      <td>Growth</td>\n",
       "      <td>Nothing as big as an M1</td>\n",
       "      <td>No</td>\n",
       "      <td>No</td>\n",
       "      <td>Small</td>\n",
       "      <td>less or equal than 5</td>\n",
       "      <td>2</td>\n",
       "      <td>0</td>\n",
       "      <td>0</td>\n",
       "    </tr>\n",
       "    <tr>\n",
       "      <td>362</td>\n",
       "      <td>D</td>\n",
       "      <td>K</td>\n",
       "      <td>I</td>\n",
       "      <td>Unchanged</td>\n",
       "      <td>Growth</td>\n",
       "      <td>One M1</td>\n",
       "      <td>No</td>\n",
       "      <td>No</td>\n",
       "      <td>Small</td>\n",
       "      <td>less or equal than 5</td>\n",
       "      <td>2</td>\n",
       "      <td>0</td>\n",
       "      <td>0</td>\n",
       "    </tr>\n",
       "    <tr>\n",
       "      <td>1009</td>\n",
       "      <td>E</td>\n",
       "      <td>K</td>\n",
       "      <td>C</td>\n",
       "      <td>Unchanged</td>\n",
       "      <td>Growth</td>\n",
       "      <td>Nothing as big as an M1</td>\n",
       "      <td>No</td>\n",
       "      <td>No</td>\n",
       "      <td>Large</td>\n",
       "      <td>less or equal than 5</td>\n",
       "      <td>2</td>\n",
       "      <td>1</td>\n",
       "      <td>0</td>\n",
       "    </tr>\n",
       "    <tr>\n",
       "      <td>304</td>\n",
       "      <td>D</td>\n",
       "      <td>R</td>\n",
       "      <td>I</td>\n",
       "      <td>Reduced</td>\n",
       "      <td>Growth</td>\n",
       "      <td>Nothing as big as an M1</td>\n",
       "      <td>Yes</td>\n",
       "      <td>No</td>\n",
       "      <td>Small</td>\n",
       "      <td>less or equal than 5</td>\n",
       "      <td>2</td>\n",
       "      <td>0</td>\n",
       "      <td>0</td>\n",
       "    </tr>\n",
       "    <tr>\n",
       "      <td>293</td>\n",
       "      <td>C</td>\n",
       "      <td>R</td>\n",
       "      <td>I</td>\n",
       "      <td>Reduced</td>\n",
       "      <td>Growth</td>\n",
       "      <td>Nothing as big as an M1</td>\n",
       "      <td>Yes</td>\n",
       "      <td>No</td>\n",
       "      <td>Small</td>\n",
       "      <td>less or equal than 5</td>\n",
       "      <td>2</td>\n",
       "      <td>0</td>\n",
       "      <td>0</td>\n",
       "    </tr>\n",
       "    <tr>\n",
       "      <td>338</td>\n",
       "      <td>D</td>\n",
       "      <td>A</td>\n",
       "      <td>I</td>\n",
       "      <td>Unchanged</td>\n",
       "      <td>Growth</td>\n",
       "      <td>More acivity than one M1</td>\n",
       "      <td>No</td>\n",
       "      <td>No</td>\n",
       "      <td>Small</td>\n",
       "      <td>less or equal than 5</td>\n",
       "      <td>2</td>\n",
       "      <td>0</td>\n",
       "      <td>0</td>\n",
       "    </tr>\n",
       "    <tr>\n",
       "      <td>102</td>\n",
       "      <td>E</td>\n",
       "      <td>A</td>\n",
       "      <td>I</td>\n",
       "      <td>Unchanged</td>\n",
       "      <td>Growth</td>\n",
       "      <td>Nothing as big as an M1</td>\n",
       "      <td>Yes</td>\n",
       "      <td>No</td>\n",
       "      <td>Small</td>\n",
       "      <td>less or equal than 5</td>\n",
       "      <td>2</td>\n",
       "      <td>0</td>\n",
       "      <td>0</td>\n",
       "    </tr>\n",
       "    <tr>\n",
       "      <td>42</td>\n",
       "      <td>D</td>\n",
       "      <td>K</td>\n",
       "      <td>I</td>\n",
       "      <td>Unchanged</td>\n",
       "      <td>Growth</td>\n",
       "      <td>Nothing as big as an M1</td>\n",
       "      <td>No</td>\n",
       "      <td>No</td>\n",
       "      <td>Small</td>\n",
       "      <td>less or equal than 5</td>\n",
       "      <td>2</td>\n",
       "      <td>0</td>\n",
       "      <td>0</td>\n",
       "    </tr>\n",
       "    <tr>\n",
       "      <td>48</td>\n",
       "      <td>D</td>\n",
       "      <td>A</td>\n",
       "      <td>O</td>\n",
       "      <td>Unchanged</td>\n",
       "      <td>Growth</td>\n",
       "      <td>More acivity than one M1</td>\n",
       "      <td>No</td>\n",
       "      <td>No</td>\n",
       "      <td>Small</td>\n",
       "      <td>less or equal than 5</td>\n",
       "      <td>2</td>\n",
       "      <td>0</td>\n",
       "      <td>0</td>\n",
       "    </tr>\n",
       "    <tr>\n",
       "      <td>100</td>\n",
       "      <td>D</td>\n",
       "      <td>A</td>\n",
       "      <td>C</td>\n",
       "      <td>Unchanged</td>\n",
       "      <td>Growth</td>\n",
       "      <td>Nothing as big as an M1</td>\n",
       "      <td>Yes</td>\n",
       "      <td>No</td>\n",
       "      <td>Small</td>\n",
       "      <td>less or equal than 5</td>\n",
       "      <td>2</td>\n",
       "      <td>0</td>\n",
       "      <td>0</td>\n",
       "    </tr>\n",
       "    <tr>\n",
       "      <td>171</td>\n",
       "      <td>E</td>\n",
       "      <td>K</td>\n",
       "      <td>C</td>\n",
       "      <td>Reduced</td>\n",
       "      <td>Growth</td>\n",
       "      <td>Nothing as big as an M1</td>\n",
       "      <td>No</td>\n",
       "      <td>No</td>\n",
       "      <td>Large</td>\n",
       "      <td>less or equal than 5</td>\n",
       "      <td>2</td>\n",
       "      <td>1</td>\n",
       "      <td>0</td>\n",
       "    </tr>\n",
       "    <tr>\n",
       "      <td>105</td>\n",
       "      <td>F</td>\n",
       "      <td>A</td>\n",
       "      <td>C</td>\n",
       "      <td>Unchanged</td>\n",
       "      <td>Growth</td>\n",
       "      <td>Nothing as big as an M1</td>\n",
       "      <td>No</td>\n",
       "      <td>No</td>\n",
       "      <td>Large</td>\n",
       "      <td>less or equal than 5</td>\n",
       "      <td>2</td>\n",
       "      <td>0</td>\n",
       "      <td>0</td>\n",
       "    </tr>\n",
       "    <tr>\n",
       "      <td>1018</td>\n",
       "      <td>D</td>\n",
       "      <td>S</td>\n",
       "      <td>O</td>\n",
       "      <td>Reduced</td>\n",
       "      <td>Growth</td>\n",
       "      <td>Nothing as big as an M1</td>\n",
       "      <td>Yes</td>\n",
       "      <td>No</td>\n",
       "      <td>Small</td>\n",
       "      <td>less or equal than 5</td>\n",
       "      <td>2</td>\n",
       "      <td>1</td>\n",
       "      <td>0</td>\n",
       "    </tr>\n",
       "    <tr>\n",
       "      <td>127</td>\n",
       "      <td>E</td>\n",
       "      <td>A</td>\n",
       "      <td>O</td>\n",
       "      <td>Reduced</td>\n",
       "      <td>Growth</td>\n",
       "      <td>Nothing as big as an M1</td>\n",
       "      <td>Yes</td>\n",
       "      <td>No</td>\n",
       "      <td>Small</td>\n",
       "      <td>less or equal than 5</td>\n",
       "      <td>2</td>\n",
       "      <td>0</td>\n",
       "      <td>0</td>\n",
       "    </tr>\n",
       "    <tr>\n",
       "      <td>602</td>\n",
       "      <td>C</td>\n",
       "      <td>R</td>\n",
       "      <td>I</td>\n",
       "      <td>Reduced</td>\n",
       "      <td>No growth</td>\n",
       "      <td>Nothing as big as an M1</td>\n",
       "      <td>Yes</td>\n",
       "      <td>No</td>\n",
       "      <td>Small</td>\n",
       "      <td>less or equal than 5</td>\n",
       "      <td>2</td>\n",
       "      <td>0</td>\n",
       "      <td>0</td>\n",
       "    </tr>\n",
       "    <tr>\n",
       "      <td>606</td>\n",
       "      <td>D</td>\n",
       "      <td>A</td>\n",
       "      <td>I</td>\n",
       "      <td>Unchanged</td>\n",
       "      <td>No growth</td>\n",
       "      <td>Nothing as big as an M1</td>\n",
       "      <td>No</td>\n",
       "      <td>No</td>\n",
       "      <td>Small</td>\n",
       "      <td>less or equal than 5</td>\n",
       "      <td>2</td>\n",
       "      <td>0</td>\n",
       "      <td>0</td>\n",
       "    </tr>\n",
       "    <tr>\n",
       "      <td>686</td>\n",
       "      <td>E</td>\n",
       "      <td>K</td>\n",
       "      <td>I</td>\n",
       "      <td>Unchanged</td>\n",
       "      <td>No growth</td>\n",
       "      <td>Nothing as big as an M1</td>\n",
       "      <td>No</td>\n",
       "      <td>No</td>\n",
       "      <td>Small</td>\n",
       "      <td>less or equal than 5</td>\n",
       "      <td>2</td>\n",
       "      <td>0</td>\n",
       "      <td>0</td>\n",
       "    </tr>\n",
       "    <tr>\n",
       "      <td>773</td>\n",
       "      <td>B</td>\n",
       "      <td>X</td>\n",
       "      <td>O</td>\n",
       "      <td>Unchanged</td>\n",
       "      <td>No growth</td>\n",
       "      <td>Nothing as big as an M1</td>\n",
       "      <td>No</td>\n",
       "      <td>No</td>\n",
       "      <td>Small</td>\n",
       "      <td>less or equal than 5</td>\n",
       "      <td>2</td>\n",
       "      <td>0</td>\n",
       "      <td>0</td>\n",
       "    </tr>\n",
       "    <tr>\n",
       "      <td>134</td>\n",
       "      <td>H</td>\n",
       "      <td>S</td>\n",
       "      <td>X</td>\n",
       "      <td>Reduced</td>\n",
       "      <td>No growth</td>\n",
       "      <td>Nothing as big as an M1</td>\n",
       "      <td>Yes</td>\n",
       "      <td>No</td>\n",
       "      <td>Small</td>\n",
       "      <td>less or equal than 5</td>\n",
       "      <td>2</td>\n",
       "      <td>0</td>\n",
       "      <td>0</td>\n",
       "    </tr>\n",
       "    <tr>\n",
       "      <td>71</td>\n",
       "      <td>D</td>\n",
       "      <td>A</td>\n",
       "      <td>O</td>\n",
       "      <td>Reduced</td>\n",
       "      <td>No growth</td>\n",
       "      <td>Nothing as big as an M1</td>\n",
       "      <td>No</td>\n",
       "      <td>No</td>\n",
       "      <td>Small</td>\n",
       "      <td>less or equal than 5</td>\n",
       "      <td>2</td>\n",
       "      <td>0</td>\n",
       "      <td>0</td>\n",
       "    </tr>\n",
       "    <tr>\n",
       "      <td>159</td>\n",
       "      <td>E</td>\n",
       "      <td>S</td>\n",
       "      <td>O</td>\n",
       "      <td>Reduced</td>\n",
       "      <td>No growth</td>\n",
       "      <td>Nothing as big as an M1</td>\n",
       "      <td>Yes</td>\n",
       "      <td>No</td>\n",
       "      <td>Small</td>\n",
       "      <td>less or equal than 5</td>\n",
       "      <td>2</td>\n",
       "      <td>0</td>\n",
       "      <td>0</td>\n",
       "    </tr>\n",
       "    <tr>\n",
       "      <td>160</td>\n",
       "      <td>C</td>\n",
       "      <td>K</td>\n",
       "      <td>O</td>\n",
       "      <td>Reduced</td>\n",
       "      <td>No growth</td>\n",
       "      <td>Nothing as big as an M1</td>\n",
       "      <td>Yes</td>\n",
       "      <td>No</td>\n",
       "      <td>Small</td>\n",
       "      <td>less or equal than 5</td>\n",
       "      <td>2</td>\n",
       "      <td>0</td>\n",
       "      <td>0</td>\n",
       "    </tr>\n",
       "    <tr>\n",
       "      <td>980</td>\n",
       "      <td>E</td>\n",
       "      <td>K</td>\n",
       "      <td>C</td>\n",
       "      <td>Unchanged</td>\n",
       "      <td>No growth</td>\n",
       "      <td>More acivity than one M1</td>\n",
       "      <td>No</td>\n",
       "      <td>No</td>\n",
       "      <td>Large</td>\n",
       "      <td>less or equal than 5</td>\n",
       "      <td>2</td>\n",
       "      <td>2</td>\n",
       "      <td>0</td>\n",
       "    </tr>\n",
       "    <tr>\n",
       "      <td>999</td>\n",
       "      <td>F</td>\n",
       "      <td>S</td>\n",
       "      <td>I</td>\n",
       "      <td>Unchanged</td>\n",
       "      <td>No growth</td>\n",
       "      <td>Nothing as big as an M1</td>\n",
       "      <td>No</td>\n",
       "      <td>No</td>\n",
       "      <td>Small</td>\n",
       "      <td>less or equal than 5</td>\n",
       "      <td>2</td>\n",
       "      <td>0</td>\n",
       "      <td>0</td>\n",
       "    </tr>\n",
       "    <tr>\n",
       "      <td>111</td>\n",
       "      <td>F</td>\n",
       "      <td>A</td>\n",
       "      <td>I</td>\n",
       "      <td>Unchanged</td>\n",
       "      <td>No growth</td>\n",
       "      <td>Nothing as big as an M1</td>\n",
       "      <td>No</td>\n",
       "      <td>No</td>\n",
       "      <td>Small</td>\n",
       "      <td>less or equal than 5</td>\n",
       "      <td>2</td>\n",
       "      <td>0</td>\n",
       "      <td>0</td>\n",
       "    </tr>\n",
       "    <tr>\n",
       "      <td>215</td>\n",
       "      <td>F</td>\n",
       "      <td>A</td>\n",
       "      <td>I</td>\n",
       "      <td>Reduced</td>\n",
       "      <td>No growth</td>\n",
       "      <td>Nothing as big as an M1</td>\n",
       "      <td>No</td>\n",
       "      <td>No</td>\n",
       "      <td>Small</td>\n",
       "      <td>less or equal than 5</td>\n",
       "      <td>2</td>\n",
       "      <td>0</td>\n",
       "      <td>0</td>\n",
       "    </tr>\n",
       "  </tbody>\n",
       "</table>\n",
       "</div>"
      ],
      "text/plain": [
       "     Code_class Code_largest_spot_size Code_spot_distribution   Activity  \\\n",
       "26            D                      A                      I  Unchanged   \n",
       "885           D                      S                      O    Reduced   \n",
       "860           D                      K                      I  Unchanged   \n",
       "835           H                      S                      X    Reduced   \n",
       "816           D                      A                      I    Reduced   \n",
       "644           F                      S                      I    Reduced   \n",
       "589           C                      S                      O    Reduced   \n",
       "452           E                      A                      I  Unchanged   \n",
       "362           D                      K                      I  Unchanged   \n",
       "1009          E                      K                      C  Unchanged   \n",
       "304           D                      R                      I    Reduced   \n",
       "293           C                      R                      I    Reduced   \n",
       "338           D                      A                      I  Unchanged   \n",
       "102           E                      A                      I  Unchanged   \n",
       "42            D                      K                      I  Unchanged   \n",
       "48            D                      A                      O  Unchanged   \n",
       "100           D                      A                      C  Unchanged   \n",
       "171           E                      K                      C    Reduced   \n",
       "105           F                      A                      C  Unchanged   \n",
       "1018          D                      S                      O    Reduced   \n",
       "127           E                      A                      O    Reduced   \n",
       "602           C                      R                      I    Reduced   \n",
       "606           D                      A                      I  Unchanged   \n",
       "686           E                      K                      I  Unchanged   \n",
       "773           B                      X                      O  Unchanged   \n",
       "134           H                      S                      X    Reduced   \n",
       "71            D                      A                      O    Reduced   \n",
       "159           E                      S                      O    Reduced   \n",
       "160           C                      K                      O    Reduced   \n",
       "980           E                      K                      C  Unchanged   \n",
       "999           F                      S                      I  Unchanged   \n",
       "111           F                      A                      I  Unchanged   \n",
       "215           F                      A                      I    Reduced   \n",
       "\n",
       "      Evolution   Previous_flare_activity Historically_complex  \\\n",
       "26       Growth   Nothing as big as an M1                  Yes   \n",
       "885      Growth   Nothing as big as an M1                  Yes   \n",
       "860      Growth   Nothing as big as an M1                   No   \n",
       "835      Growth   Nothing as big as an M1                  Yes   \n",
       "816      Growth   Nothing as big as an M1                   No   \n",
       "644      Growth   Nothing as big as an M1                   No   \n",
       "589      Growth   Nothing as big as an M1                   No   \n",
       "452      Growth   Nothing as big as an M1                   No   \n",
       "362      Growth                    One M1                   No   \n",
       "1009     Growth   Nothing as big as an M1                   No   \n",
       "304      Growth   Nothing as big as an M1                  Yes   \n",
       "293      Growth   Nothing as big as an M1                  Yes   \n",
       "338      Growth  More acivity than one M1                   No   \n",
       "102      Growth   Nothing as big as an M1                  Yes   \n",
       "42       Growth   Nothing as big as an M1                   No   \n",
       "48       Growth  More acivity than one M1                   No   \n",
       "100      Growth   Nothing as big as an M1                  Yes   \n",
       "171      Growth   Nothing as big as an M1                   No   \n",
       "105      Growth   Nothing as big as an M1                   No   \n",
       "1018     Growth   Nothing as big as an M1                  Yes   \n",
       "127      Growth   Nothing as big as an M1                  Yes   \n",
       "602   No growth   Nothing as big as an M1                  Yes   \n",
       "606   No growth   Nothing as big as an M1                   No   \n",
       "686   No growth   Nothing as big as an M1                   No   \n",
       "773   No growth   Nothing as big as an M1                   No   \n",
       "134   No growth   Nothing as big as an M1                  Yes   \n",
       "71    No growth   Nothing as big as an M1                   No   \n",
       "159   No growth   Nothing as big as an M1                  Yes   \n",
       "160   No growth   Nothing as big as an M1                  Yes   \n",
       "980   No growth  More acivity than one M1                   No   \n",
       "999   No growth   Nothing as big as an M1                   No   \n",
       "111   No growth   Nothing as big as an M1                   No   \n",
       "215   No growth   Nothing as big as an M1                   No   \n",
       "\n",
       "     Region_historically_complex   Area     Area_largest_spot C-class M-class  \\\n",
       "26                            No  Small  less or equal than 5       2       0   \n",
       "885                           No  Small  less or equal than 5       2       2   \n",
       "860                           No  Small  less or equal than 5       2       0   \n",
       "835                          Yes  Small  less or equal than 5       2       0   \n",
       "816                           No  Small  less or equal than 5       2       0   \n",
       "644                           No  Small  less or equal than 5       2       0   \n",
       "589                           No  Small  less or equal than 5       2       1   \n",
       "452                           No  Small  less or equal than 5       2       0   \n",
       "362                           No  Small  less or equal than 5       2       0   \n",
       "1009                          No  Large  less or equal than 5       2       1   \n",
       "304                           No  Small  less or equal than 5       2       0   \n",
       "293                           No  Small  less or equal than 5       2       0   \n",
       "338                           No  Small  less or equal than 5       2       0   \n",
       "102                           No  Small  less or equal than 5       2       0   \n",
       "42                            No  Small  less or equal than 5       2       0   \n",
       "48                            No  Small  less or equal than 5       2       0   \n",
       "100                           No  Small  less or equal than 5       2       0   \n",
       "171                           No  Large  less or equal than 5       2       1   \n",
       "105                           No  Large  less or equal than 5       2       0   \n",
       "1018                          No  Small  less or equal than 5       2       1   \n",
       "127                           No  Small  less or equal than 5       2       0   \n",
       "602                           No  Small  less or equal than 5       2       0   \n",
       "606                           No  Small  less or equal than 5       2       0   \n",
       "686                           No  Small  less or equal than 5       2       0   \n",
       "773                           No  Small  less or equal than 5       2       0   \n",
       "134                           No  Small  less or equal than 5       2       0   \n",
       "71                            No  Small  less or equal than 5       2       0   \n",
       "159                           No  Small  less or equal than 5       2       0   \n",
       "160                           No  Small  less or equal than 5       2       0   \n",
       "980                           No  Large  less or equal than 5       2       2   \n",
       "999                           No  Small  less or equal than 5       2       0   \n",
       "111                           No  Small  less or equal than 5       2       0   \n",
       "215                           No  Small  less or equal than 5       2       0   \n",
       "\n",
       "     X-class  \n",
       "26         0  \n",
       "885        0  \n",
       "860        0  \n",
       "835        0  \n",
       "816        0  \n",
       "644        0  \n",
       "589        0  \n",
       "452        0  \n",
       "362        0  \n",
       "1009       0  \n",
       "304        0  \n",
       "293        0  \n",
       "338        0  \n",
       "102        0  \n",
       "42         0  \n",
       "48         0  \n",
       "100        0  \n",
       "171        0  \n",
       "105        0  \n",
       "1018       0  \n",
       "127        0  \n",
       "602        0  \n",
       "606        0  \n",
       "686        0  \n",
       "773        0  \n",
       "134        0  \n",
       "71         0  \n",
       "159        0  \n",
       "160        0  \n",
       "980        0  \n",
       "999        0  \n",
       "111        0  \n",
       "215        0  "
      ]
     },
     "execution_count": 316,
     "metadata": {},
     "output_type": "execute_result"
    }
   ],
   "source": [
    "data2[data2['C-class']=='2'].sort_values(by='Evolution')"
   ]
  },
  {
   "cell_type": "code",
   "execution_count": 317,
   "metadata": {},
   "outputs": [
    {
     "data": {
      "text/plain": [
       "<matplotlib.axes._subplots.AxesSubplot at 0x2aaec8b7dc8>"
      ]
     },
     "execution_count": 317,
     "metadata": {},
     "output_type": "execute_result"
    },
    {
     "data": {
      "image/png": "[encoded data removed]",
      "text/plain": [
       "<Figure size 720x360 with 1 Axes>"
      ]
     },
     "metadata": {
      "needs_background": "light"
     },
     "output_type": "display_data"
    }
   ],
   "source": [
    "CrosstabResult=pd.crosstab(index=data2['Area'],columns=data2['Code_largest_spot_size'])\n",
    "CrosstabResult.plot.bar(figsize=(10,5), rot=0)"
   ]
  },
  {
   "cell_type": "code",
   "execution_count": 318,
   "metadata": {},
   "outputs": [
    {
     "data": {
      "text/plain": [
       "<matplotlib.axes._subplots.AxesSubplot at 0x2aaedaed848>"
      ]
     },
     "execution_count": 318,
     "metadata": {},
     "output_type": "execute_result"
    },
    {
     "data": {
      "image/png": "[encoded data removed]",
      "text/plain": [
       "<Figure size 720x360 with 1 Axes>"
      ]
     },
     "metadata": {
      "needs_background": "light"
     },
     "output_type": "display_data"
    }
   ],
   "source": [
    "CrosstabResult=pd.crosstab(index=data2['Area'],columns=data2['Code_spot_distribution'])\n",
    "CrosstabResult.plot.bar(figsize=(10,5), rot=0)"
   ]
  },
  {
   "cell_type": "markdown",
   "metadata": {},
   "source": [
    "## Modelisation Prediction"
   ]
  },
  {
   "cell_type": "markdown",
   "metadata": {},
   "source": [
    "We're going to see if we can predict how many C-class, M-class and X-class each region contains depending on the parameters.\n",
    "In this case data are from the column \"Code_class\" to \"Area_largest_spot\" and the target are the 3 columns \"C-class\", \"M-class\" and \"X-class\""
   ]
  },
  {
   "cell_type": "markdown",
   "metadata": {},
   "source": [
    "Since the training data are categorical nominal values we'll need encode them using OneHotencoder and OrdinalEncoder"
   ]
  },
  {
   "cell_type": "code",
   "execution_count": 319,
   "metadata": {},
   "outputs": [
    {
     "data": {
      "text/html": [
       "<div>\n",
       "<style scoped>\n",
       "    .dataframe tbody tr th:only-of-type {\n",
       "        vertical-align: middle;\n",
       "    }\n",
       "\n",
       "    .dataframe tbody tr th {\n",
       "        vertical-align: top;\n",
       "    }\n",
       "\n",
       "    .dataframe thead th {\n",
       "        text-align: right;\n",
       "    }\n",
       "</style>\n",
       "<table border=\"1\" class=\"dataframe\">\n",
       "  <thead>\n",
       "    <tr style=\"text-align: right;\">\n",
       "      <th></th>\n",
       "      <th>Code_class</th>\n",
       "      <th>Code_largest_spot_size</th>\n",
       "      <th>Code_spot_distribution</th>\n",
       "      <th>Activity</th>\n",
       "      <th>Evolution</th>\n",
       "      <th>Previous_flare_activity</th>\n",
       "      <th>Historically_complex</th>\n",
       "      <th>Region_historically_complex</th>\n",
       "      <th>Area</th>\n",
       "      <th>Area_largest_spot</th>\n",
       "      <th>C-class</th>\n",
       "      <th>M-class</th>\n",
       "      <th>X-class</th>\n",
       "    </tr>\n",
       "  </thead>\n",
       "  <tbody>\n",
       "    <tr>\n",
       "      <td>0</td>\n",
       "      <td>H</td>\n",
       "      <td>A</td>\n",
       "      <td>X</td>\n",
       "      <td>Reduced</td>\n",
       "      <td>Growth</td>\n",
       "      <td>Nothing as big as an M1</td>\n",
       "      <td>Yes</td>\n",
       "      <td>Yes</td>\n",
       "      <td>Small</td>\n",
       "      <td>less or equal than 5</td>\n",
       "      <td>0</td>\n",
       "      <td>0</td>\n",
       "      <td>0</td>\n",
       "    </tr>\n",
       "    <tr>\n",
       "      <td>1</td>\n",
       "      <td>D</td>\n",
       "      <td>R</td>\n",
       "      <td>O</td>\n",
       "      <td>Reduced</td>\n",
       "      <td>Growth</td>\n",
       "      <td>Nothing as big as an M1</td>\n",
       "      <td>Yes</td>\n",
       "      <td>No</td>\n",
       "      <td>Small</td>\n",
       "      <td>less or equal than 5</td>\n",
       "      <td>0</td>\n",
       "      <td>0</td>\n",
       "      <td>0</td>\n",
       "    </tr>\n",
       "    <tr>\n",
       "      <td>2</td>\n",
       "      <td>C</td>\n",
       "      <td>S</td>\n",
       "      <td>O</td>\n",
       "      <td>Reduced</td>\n",
       "      <td>Growth</td>\n",
       "      <td>Nothing as big as an M1</td>\n",
       "      <td>Yes</td>\n",
       "      <td>No</td>\n",
       "      <td>Small</td>\n",
       "      <td>less or equal than 5</td>\n",
       "      <td>0</td>\n",
       "      <td>0</td>\n",
       "      <td>0</td>\n",
       "    </tr>\n",
       "    <tr>\n",
       "      <td>3</td>\n",
       "      <td>H</td>\n",
       "      <td>R</td>\n",
       "      <td>X</td>\n",
       "      <td>Reduced</td>\n",
       "      <td>No growth</td>\n",
       "      <td>Nothing as big as an M1</td>\n",
       "      <td>Yes</td>\n",
       "      <td>Yes</td>\n",
       "      <td>Small</td>\n",
       "      <td>less or equal than 5</td>\n",
       "      <td>0</td>\n",
       "      <td>0</td>\n",
       "      <td>0</td>\n",
       "    </tr>\n",
       "    <tr>\n",
       "      <td>4</td>\n",
       "      <td>H</td>\n",
       "      <td>S</td>\n",
       "      <td>X</td>\n",
       "      <td>Reduced</td>\n",
       "      <td>Decay</td>\n",
       "      <td>Nothing as big as an M1</td>\n",
       "      <td>Yes</td>\n",
       "      <td>No</td>\n",
       "      <td>Small</td>\n",
       "      <td>less or equal than 5</td>\n",
       "      <td>0</td>\n",
       "      <td>0</td>\n",
       "      <td>0</td>\n",
       "    </tr>\n",
       "  </tbody>\n",
       "</table>\n",
       "</div>"
      ],
      "text/plain": [
       "  Code_class Code_largest_spot_size Code_spot_distribution Activity  \\\n",
       "0          H                      A                      X  Reduced   \n",
       "1          D                      R                      O  Reduced   \n",
       "2          C                      S                      O  Reduced   \n",
       "3          H                      R                      X  Reduced   \n",
       "4          H                      S                      X  Reduced   \n",
       "\n",
       "   Evolution  Previous_flare_activity Historically_complex  \\\n",
       "0     Growth  Nothing as big as an M1                  Yes   \n",
       "1     Growth  Nothing as big as an M1                  Yes   \n",
       "2     Growth  Nothing as big as an M1                  Yes   \n",
       "3  No growth  Nothing as big as an M1                  Yes   \n",
       "4      Decay  Nothing as big as an M1                  Yes   \n",
       "\n",
       "  Region_historically_complex   Area     Area_largest_spot C-class M-class  \\\n",
       "0                         Yes  Small  less or equal than 5       0       0   \n",
       "1                          No  Small  less or equal than 5       0       0   \n",
       "2                          No  Small  less or equal than 5       0       0   \n",
       "3                         Yes  Small  less or equal than 5       0       0   \n",
       "4                          No  Small  less or equal than 5       0       0   \n",
       "\n",
       "  X-class  \n",
       "0       0  \n",
       "1       0  \n",
       "2       0  \n",
       "3       0  \n",
       "4       0  "
      ]
     },
     "execution_count": 319,
     "metadata": {},
     "output_type": "execute_result"
    }
   ],
   "source": [
    "data2.head()"
   ]
  },
  {
   "cell_type": "code",
   "execution_count": 356,
   "metadata": {},
   "outputs": [],
   "source": [
    "X = data2.iloc[:, :10]\n",
    "y1 =data2.iloc[:, 10]\n",
    "y2 =data2.iloc[:, 11]\n",
    "y3 =data2.iloc[:, 12]"
   ]
  },
  {
   "cell_type": "code",
   "execution_count": 321,
   "metadata": {},
   "outputs": [
    {
     "data": {
      "text/plain": [
       "[array(['Reduced', 'Unchanged'], dtype=object),\n",
       " array(['Decay', 'Growth', 'No growth'], dtype=object),\n",
       " array(['More acivity than one M1', 'Nothing as big as an M1', 'One M1'],\n",
       "       dtype=object),\n",
       " array(['No', 'Yes'], dtype=object),\n",
       " array(['No', 'Yes'], dtype=object),\n",
       " array(['Large', 'Small'], dtype=object),\n",
       " array(['less or equal than 5'], dtype=object)]"
      ]
     },
     "execution_count": 321,
     "metadata": {},
     "output_type": "execute_result"
    }
   ],
   "source": [
    "ohe = OneHotEncoder(sparse= False)\n",
    "ohe.fit_transform(data2[[\"Activity\", \"Evolution\", \"Previous_flare_activity\", \"Historically_complex\",\"Region_historically_complex\",\"Area\",\"Area_largest_spot\"]])[:]\n",
    "ohe.categories_"
   ]
  },
  {
   "cell_type": "code",
   "execution_count": 322,
   "metadata": {},
   "outputs": [
    {
     "data": {
      "text/plain": [
       "[array(['A', 'B', 'C', 'D', 'E', 'F', 'H'], dtype=object),\n",
       " array(['X', 'R', 'S', 'A', 'H', 'K'], dtype=object),\n",
       " array(['X', 'O', 'I', 'C'], dtype=object)]"
      ]
     },
     "execution_count": 322,
     "metadata": {},
     "output_type": "execute_result"
    }
   ],
   "source": [
    "oe = OrdinalEncoder(categories=[['A','B','C','D','E','F','H'],['X','R','S','A','H','K'],['X','O','I','C']])\n",
    "oe.fit_transform(data2[['Code_class','Code_largest_spot_size','Code_spot_distribution']])\n",
    "oe.categories_"
   ]
  },
  {
   "cell_type": "code",
   "execution_count": 323,
   "metadata": {},
   "outputs": [],
   "source": [
    "column_transform = make_column_transformer(\n",
    "    (ohe, [\"Activity\", \"Evolution\", \"Previous_flare_activity\", \"Historically_complex\",\"Region_historically_complex\",\"Area\",\"Area_largest_spot\"]),\n",
    "    (oe, ['Code_class','Code_largest_spot_size','Code_spot_distribution']))"
   ]
  },
  {
   "cell_type": "code",
   "execution_count": 324,
   "metadata": {},
   "outputs": [
    {
     "data": {
      "text/plain": [
       "array([[1., 0., 0., ..., 6., 3., 0.],\n",
       "       [1., 0., 0., ..., 3., 1., 1.],\n",
       "       [1., 0., 0., ..., 2., 2., 1.],\n",
       "       ...,\n",
       "       [1., 0., 0., ..., 2., 2., 1.],\n",
       "       [1., 0., 0., ..., 6., 1., 0.],\n",
       "       [1., 0., 1., ..., 1., 0., 1.]])"
      ]
     },
     "execution_count": 324,
     "metadata": {},
     "output_type": "execute_result"
    }
   ],
   "source": [
    "column_transform.fit_transform(X)[:]"
   ]
  },
  {
   "cell_type": "markdown",
   "metadata": {},
   "source": [
    "### Training and Test Split"
   ]
  },
  {
   "cell_type": "code",
   "execution_count": 325,
   "metadata": {},
   "outputs": [
    {
     "name": "stdout",
     "output_type": "stream",
     "text": [
      "(746, 10) (746, 10) (746, 10)\n",
      "(320, 10) (320, 10) (320, 10)\n",
      "(746,) (746,) (746,)\n",
      "(320,) (320,) (320,)\n"
     ]
    }
   ],
   "source": [
    "X_train, X_test, y_train, y_test = train_test_split(X, y1, test_size=0.3, random_state = 42)\n",
    "X_train2, X_test2, y_train2, y_test2 = train_test_split(X, y2, test_size=0.3, random_state = 42)\n",
    "X_train3, X_test3, y_train3, y_test3 = train_test_split(X, y3, test_size=0.3, random_state = 42)\n",
    "\n",
    "print(X_train.shape, X_train2.shape, X_train3.shape)\n",
    "print(X_test.shape, X_test2.shape, X_test3.shape)\n",
    "print(y_train.shape, y_train2.shape, y_train3.shape)\n",
    "print(y_test.shape, y_test2.shape, y_test3.shape)"
   ]
  },
  {
   "cell_type": "markdown",
   "metadata": {},
   "source": [
    "### Linear regression"
   ]
  },
  {
   "cell_type": "code",
   "execution_count": 326,
   "metadata": {},
   "outputs": [],
   "source": [
    "#Instantiate Pipeline with linear Regression\n",
    "lm= LinearRegression()\n",
    "lm_pipeline = make_pipeline(column_transform, lm)"
   ]
  },
  {
   "cell_type": "code",
   "execution_count": 380,
   "metadata": {},
   "outputs": [
    {
     "name": "stdout",
     "output_type": "stream",
     "text": [
      "First 5 LM predictions(C-class):            0\n",
      "0  0.018472\n",
      "1  0.146782\n",
      "2  0.071126\n",
      "3  0.417559\n",
      "4  0.145373\n"
     ]
    }
   ],
   "source": [
    "#Fit pipeline to training set and make predictions on test set\n",
    "\n",
    "lm_pipeline.fit(X_train, y_train)\n",
    "lm_predictions = lm_pipeline.predict(X_test)\n",
    "print('First 5 LM predictions(C-class): ', pd.DataFrame(lm_predictions[:5]))\n"
   ]
  },
  {
   "cell_type": "code",
   "execution_count": 381,
   "metadata": {},
   "outputs": [
    {
     "name": "stdout",
     "output_type": "stream",
     "text": [
      "First 5 LM predictions(M-class):            0\n",
      "0  0.008754\n",
      "1 -0.016948\n",
      "2  0.018749\n",
      "3  0.053582\n",
      "4  0.017597\n"
     ]
    }
   ],
   "source": [
    "lm_pipeline.fit(X_train2, y_train2)\n",
    "lm_predictions = lm_pipeline.predict(X_test)\n",
    "print('First 5 LM predictions(M-class): ', pd.DataFrame(lm_predictions[:5]))"
   ]
  },
  {
   "cell_type": "code",
   "execution_count": 382,
   "metadata": {},
   "outputs": [
    {
     "name": "stdout",
     "output_type": "stream",
     "text": [
      "First 5 LM predictions(X-class):            0\n",
      "0 -0.001148\n",
      "1  0.005444\n",
      "2 -0.000424\n",
      "3  0.005046\n",
      "4 -0.000497\n"
     ]
    }
   ],
   "source": [
    "lm_pipeline.fit(X_train3, y_train3)\n",
    "lm_predictions = lm_pipeline.predict(X_test)\n",
    "print('First 5 LM predictions(X-class): ', pd.DataFrame(lm_predictions[:5]))"
   ]
  },
  {
   "cell_type": "markdown",
   "metadata": {},
   "source": [
    "We can now evaluate the accuracy of the predictions using the mean absolute error (MAE) and the mean squared error (RMSE)"
   ]
  },
  {
   "cell_type": "code",
   "execution_count": 330,
   "metadata": {},
   "outputs": [
    {
     "name": "stdout",
     "output_type": "stream",
     "text": [
      "C-class\n",
      "LM MAE: 0.28\n",
      "LM RMSE: 0.85\n"
     ]
    }
   ],
   "source": [
    "lm_mae = mean_absolute_error(lm_predictions, y_test)\n",
    "lm_rmse = np.sqrt(mean_squared_error(lm_predictions, y_test))\n",
    "print(\"C-class\")\n",
    "print(\"LM MAE: {:.2f}\".format(round(lm_mae,2)))\n",
    "print(\"LM RMSE: {:.2f}\".format(round(lm_rmse,2)))"
   ]
  },
  {
   "cell_type": "code",
   "execution_count": 331,
   "metadata": {},
   "outputs": [
    {
     "name": "stdout",
     "output_type": "stream",
     "text": [
      "M-class\n",
      "LM MAE: 0.04\n",
      "LM RMSE: 0.27\n"
     ]
    }
   ],
   "source": [
    "lm_mae = mean_absolute_error(lm_predictions, y_test2)\n",
    "lm_rmse = np.sqrt(mean_squared_error(lm_predictions, y_test2))\n",
    "print(\"M-class\")\n",
    "print(\"LM MAE: {:.2f}\".format(round(lm_mae,2)))\n",
    "print(\"LM RMSE: {:.2f}\".format(round(lm_rmse,2)))"
   ]
  },
  {
   "cell_type": "code",
   "execution_count": 332,
   "metadata": {},
   "outputs": [
    {
     "name": "stdout",
     "output_type": "stream",
     "text": [
      "X-class\n",
      "LM MAE: 0.01\n",
      "LM RMSE: 0.03\n"
     ]
    }
   ],
   "source": [
    "lm_mae = mean_absolute_error(lm_predictions, y_test3)\n",
    "lm_rmse = np.sqrt(mean_squared_error(lm_predictions, y_test3))\n",
    "print(\"X-class\")\n",
    "print(\"LM MAE: {:.2f}\".format(round(lm_mae,2)))\n",
    "print(\"LM RMSE: {:.2f}\".format(round(lm_rmse,2)))"
   ]
  },
  {
   "cell_type": "markdown",
   "metadata": {},
   "source": [
    "We can notice that only the predictions of the X-class can be considered as accurate using the linear regression"
   ]
  },
  {
   "cell_type": "markdown",
   "metadata": {},
   "source": [
    "Let's try to make a prediction using a different model (now with a gradient Boosting regressor)"
   ]
  },
  {
   "cell_type": "markdown",
   "metadata": {},
   "source": [
    "### Gradient Boosting Regressor"
   ]
  },
  {
   "cell_type": "code",
   "execution_count": 333,
   "metadata": {},
   "outputs": [],
   "source": [
    "#Instantiate pipeline with gradient boosting\n",
    "\n",
    "gbm = GradientBoostingRegressor()\n",
    "gbm_pipeline = make_pipeline(column_transform, gbm)"
   ]
  },
  {
   "cell_type": "code",
   "execution_count": 383,
   "metadata": {},
   "outputs": [
    {
     "name": "stdout",
     "output_type": "stream",
     "text": [
      "First 5 GBM predictions(C-class):            0\n",
      "0  0.037785\n",
      "1  0.078790\n",
      "2  0.100362\n",
      "3  0.364807\n",
      "4  0.085915\n"
     ]
    }
   ],
   "source": [
    "gbm_pipeline.fit(X_train, y_train)\n",
    "gbm_predictions = gbm_pipeline.predict(X_test)\n",
    "print('First 5 GBM predictions(C-class): ', pd.DataFrame(gbm_predictions[:5]))"
   ]
  },
  {
   "cell_type": "code",
   "execution_count": 384,
   "metadata": {},
   "outputs": [
    {
     "name": "stdout",
     "output_type": "stream",
     "text": [
      "First 5 GBM predictions(M-class):            0\n",
      "0 -0.008721\n",
      "1 -0.003070\n",
      "2  0.013753\n",
      "3  0.067197\n",
      "4  0.003520\n"
     ]
    }
   ],
   "source": [
    "gbm_pipeline.fit(X_train2, y_train2)\n",
    "gbm_predictions = gbm_pipeline.predict(X_test)\n",
    "print('First 5 GBM predictions(M-class): ', pd.DataFrame(gbm_predictions[:5]))"
   ]
  },
  {
   "cell_type": "code",
   "execution_count": 385,
   "metadata": {},
   "outputs": [
    {
     "name": "stdout",
     "output_type": "stream",
     "text": [
      "First 5 GBM predictions(X-class):            0\n",
      "0 -0.000246\n",
      "1 -0.001688\n",
      "2 -0.000143\n",
      "3 -0.000915\n",
      "4 -0.000518\n"
     ]
    }
   ],
   "source": [
    "gbm_pipeline.fit(X_train3, y_train3)\n",
    "gbm_predictions = gbm_pipeline.predict(X_test)\n",
    "print('First 5 GBM predictions(X-class): ', pd.DataFrame(gbm_predictions[:5]))"
   ]
  },
  {
   "cell_type": "code",
   "execution_count": 337,
   "metadata": {},
   "outputs": [
    {
     "name": "stdout",
     "output_type": "stream",
     "text": [
      "C-class\n",
      "GBM MAE: 0.28\n",
      "GBM RMSE: 0.85\n"
     ]
    }
   ],
   "source": [
    "gbm_mae = mean_absolute_error(gbm_predictions, y_test)\n",
    "gbm_rmse = np.sqrt(mean_squared_error(gbm_predictions, y_test))\n",
    "print(\"C-class\")\n",
    "print(\"GBM MAE: {:.2f}\".format(round(gbm_mae,2)))\n",
    "print(\"GBM RMSE: {:.2f}\".format(round(gbm_rmse,2)))"
   ]
  },
  {
   "cell_type": "code",
   "execution_count": 338,
   "metadata": {},
   "outputs": [
    {
     "name": "stdout",
     "output_type": "stream",
     "text": [
      "M-class\n",
      "GBM MAE: 0.04\n",
      "GBM RMSE: 0.27\n"
     ]
    }
   ],
   "source": [
    "gbm_mae = mean_absolute_error(gbm_predictions, y_test2)\n",
    "gbm_rmse = np.sqrt(mean_squared_error(gbm_predictions, y_test2))\n",
    "print(\"M-class\")\n",
    "print(\"GBM MAE: {:.2f}\".format(round(gbm_mae,2)))\n",
    "print(\"GBM RMSE: {:.2f}\".format(round(gbm_rmse,2)))"
   ]
  },
  {
   "cell_type": "code",
   "execution_count": 339,
   "metadata": {},
   "outputs": [
    {
     "name": "stdout",
     "output_type": "stream",
     "text": [
      "X-class\n",
      "GBM MAE: 0.01\n",
      "GBM RMSE: 0.03\n"
     ]
    }
   ],
   "source": [
    "gbm_mae = mean_absolute_error(gbm_predictions, y_test3)\n",
    "gbm_rmse = np.sqrt(mean_squared_error(gbm_predictions, y_test3))\n",
    "print(\"X-class\")\n",
    "print(\"GBM MAE: {:.2f}\".format(round(gbm_mae,2)))\n",
    "print(\"GBM RMSE: {:.2f}\".format(round(gbm_rmse,2)))"
   ]
  },
  {
   "cell_type": "markdown",
   "metadata": {},
   "source": [
    "### Logistic regression"
   ]
  },
  {
   "cell_type": "code",
   "execution_count": 340,
   "metadata": {},
   "outputs": [],
   "source": [
    "log= LogisticRegression(solver='lbfgs')\n",
    "log_pipeline = make_pipeline(column_transform, log)"
   ]
  },
  {
   "cell_type": "code",
   "execution_count": 387,
   "metadata": {},
   "outputs": [
    {
     "name": "stdout",
     "output_type": "stream",
     "text": [
      "First 5 LOG predictions(C-class):     0\n",
      "0  0\n",
      "1  0\n",
      "2  0\n",
      "3  0\n",
      "4  0\n"
     ]
    },
    {
     "name": "stderr",
     "output_type": "stream",
     "text": [
      "C:\\Users\\Sebastien LIAO\\Anaconda3\\lib\\site-packages\\sklearn\\linear_model\\logistic.py:469: FutureWarning: Default multi_class will be changed to 'auto' in 0.22. Specify the multi_class option to silence this warning.\n",
      "  \"this warning.\", FutureWarning)\n"
     ]
    }
   ],
   "source": [
    "log_pipeline.fit(X_train, y_train)\n",
    "log_predictions = log_pipeline.predict(X_test)\n",
    "print('First 5 LOG predictions(C-class): ', pd.DataFrame(log_predictions[:5]))"
   ]
  },
  {
   "cell_type": "code",
   "execution_count": 388,
   "metadata": {},
   "outputs": [
    {
     "name": "stdout",
     "output_type": "stream",
     "text": [
      "First 5 LOG predictions(C-class):     0\n",
      "0  0\n",
      "1  0\n",
      "2  0\n",
      "3  0\n",
      "4  0\n"
     ]
    },
    {
     "name": "stderr",
     "output_type": "stream",
     "text": [
      "C:\\Users\\Sebastien LIAO\\Anaconda3\\lib\\site-packages\\sklearn\\linear_model\\logistic.py:469: FutureWarning: Default multi_class will be changed to 'auto' in 0.22. Specify the multi_class option to silence this warning.\n",
      "  \"this warning.\", FutureWarning)\n"
     ]
    }
   ],
   "source": [
    "log_pipeline.fit(X_train2, y_train2)\n",
    "log_predictions = log_pipeline.predict(X_test)\n",
    "print('First 5 LOG predictions(C-class): ', pd.DataFrame(log_predictions[:5]))"
   ]
  },
  {
   "cell_type": "code",
   "execution_count": 386,
   "metadata": {},
   "outputs": [
    {
     "name": "stdout",
     "output_type": "stream",
     "text": [
      "First 5 LOG predictions(C-class):     0\n",
      "0  0\n",
      "1  0\n",
      "2  0\n",
      "3  0\n",
      "4  0\n"
     ]
    },
    {
     "name": "stderr",
     "output_type": "stream",
     "text": [
      "C:\\Users\\Sebastien LIAO\\Anaconda3\\lib\\site-packages\\sklearn\\linear_model\\logistic.py:469: FutureWarning: Default multi_class will be changed to 'auto' in 0.22. Specify the multi_class option to silence this warning.\n",
      "  \"this warning.\", FutureWarning)\n"
     ]
    }
   ],
   "source": [
    "log_pipeline.fit(X_train3, y_train3)\n",
    "log_predictions = log_pipeline.predict(X_test)\n",
    "print('First 5 LOG predictions(C-class): ', pd.DataFrame(log_predictions[:5]))"
   ]
  },
  {
   "cell_type": "code",
   "execution_count": 344,
   "metadata": {},
   "outputs": [
    {
     "name": "stdout",
     "output_type": "stream",
     "text": [
      "C-class\n",
      "GBM MAE: 0.28\n",
      "GBM RMSE: 0.86\n"
     ]
    }
   ],
   "source": [
    "log_mae = mean_absolute_error(log_predictions, y_test)\n",
    "log_rmse = np.sqrt(mean_squared_error(log_predictions, y_test))\n",
    "print(\"C-class\")\n",
    "print(\"GBM MAE: {:.2f}\".format(round(log_mae,2)))\n",
    "print(\"GBM RMSE: {:.2f}\".format(round(log_rmse,2)))"
   ]
  },
  {
   "cell_type": "code",
   "execution_count": 345,
   "metadata": {},
   "outputs": [
    {
     "name": "stdout",
     "output_type": "stream",
     "text": [
      "M-class\n",
      "GBM MAE: 0.03\n",
      "GBM RMSE: 0.27\n"
     ]
    }
   ],
   "source": [
    "log_mae = mean_absolute_error(log_predictions, y_test2)\n",
    "log_rmse = np.sqrt(mean_squared_error(log_predictions, y_test2))\n",
    "print(\"M-class\")\n",
    "print(\"GBM MAE: {:.2f}\".format(round(log_mae,2)))\n",
    "print(\"GBM RMSE: {:.2f}\".format(round(log_rmse,2)))"
   ]
  },
  {
   "cell_type": "code",
   "execution_count": 346,
   "metadata": {},
   "outputs": [
    {
     "name": "stdout",
     "output_type": "stream",
     "text": [
      "X-class\n",
      "GBM MAE: 0.00\n",
      "GBM RMSE: 0.00\n"
     ]
    }
   ],
   "source": [
    "log_mae = mean_absolute_error(log_predictions, y_test3)\n",
    "log_rmse = np.sqrt(mean_squared_error(log_predictions, y_test3))\n",
    "print(\"X-class\")\n",
    "print(\"GBM MAE: {:.2f}\".format(round(log_mae,2)))\n",
    "print(\"GBM RMSE: {:.2f}\".format(round(log_rmse,2)))"
   ]
  },
  {
   "cell_type": "markdown",
   "metadata": {},
   "source": [
    "The logistic regression seems to be the most accurate among the models"
   ]
  }
 ],
 "metadata": {
  "kernelspec": {
   "display_name": "Python 3",
   "language": "python",
   "name": "python3"
  },
  "language_info": {
   "codemirror_mode": {
    "name": "ipython",
    "version": 3
   },
   "file_extension": ".py",
   "mimetype": "text/x-python",
   "name": "python",
   "nbconvert_exporter": "python",
   "pygments_lexer": "ipython3",
   "version": "3.7.4"
  }
 },
 "nbformat": 4,
 "nbformat_minor": 4
}
